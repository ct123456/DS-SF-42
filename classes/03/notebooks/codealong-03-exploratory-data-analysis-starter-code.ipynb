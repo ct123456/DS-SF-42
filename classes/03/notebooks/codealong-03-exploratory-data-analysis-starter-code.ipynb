{
 "cells": [
  {
   "cell_type": "markdown",
   "metadata": {},
   "source": [
    "# DS-SF-42 | 03 | Exploratory Data Analysis | Codealong | Starter Code"
   ]
  },
  {
   "cell_type": "markdown",
   "metadata": {},
   "source": [
    "In this code-along we will need the seaborn plotting package. Seaborn is built-around matplotlib to make some functionality much more user friendly.\n",
    "\n",
    "To install a package, open terminal (or git-bash for Windows users).\n",
    "\n",
    "Run:\n",
    "\n",
    "```bash\n",
    "conda install -y seaborn\n",
    "```\n",
    "\n",
    "Conda is a package manager, similar to `pip`."
   ]
  },
  {
   "cell_type": "code",
   "execution_count": 4,
   "metadata": {
    "collapsed": true
   },
   "outputs": [],
   "source": [
    "import os\n",
    "import math\n",
    "import numpy as np\n",
    "import pandas as pd\n",
    "import seaborn as sns\n",
    "import matplotlib.pyplot as plt\n",
    "%matplotlib inline\n",
    "plt.style.use('ggplot')"
   ]
  },
  {
   "cell_type": "markdown",
   "metadata": {},
   "source": [
    "## Part A | Independent Review (20 minutes) | The _pandas_ Library"
   ]
  },
  {
   "cell_type": "code",
   "execution_count": 87,
   "metadata": {
    "collapsed": false
   },
   "outputs": [],
   "source": [
    "df = pd.DataFrame({'name': ['Alice', 'Bob', 'Carol', 'Dave', 'Eve', 'Frank'],\n",
    "    'gender': ['Female', 'Male', 'Female', 'Male', 'Female', 'Male'],\n",
    "    'age': [24, 34, 44, 41, 52, 43],\n",
    "    'marital_status': [0, 2, 1, 2, 0, 1]})\\\n",
    "        .set_index('name')"
   ]
  },
  {
   "cell_type": "code",
   "execution_count": 84,
   "metadata": {
    "collapsed": false
   },
   "outputs": [
    {
     "data": {
      "text/html": [
       "<div>\n",
       "<table border=\"1\" class=\"dataframe\">\n",
       "  <thead>\n",
       "    <tr style=\"text-align: right;\">\n",
       "      <th></th>\n",
       "      <th>age</th>\n",
       "      <th>gender</th>\n",
       "      <th>marital_status</th>\n",
       "    </tr>\n",
       "    <tr>\n",
       "      <th>name</th>\n",
       "      <th></th>\n",
       "      <th></th>\n",
       "      <th></th>\n",
       "    </tr>\n",
       "  </thead>\n",
       "  <tbody>\n",
       "    <tr>\n",
       "      <th>Alice</th>\n",
       "      <td>24</td>\n",
       "      <td>Female</td>\n",
       "      <td>0</td>\n",
       "    </tr>\n",
       "    <tr>\n",
       "      <th>Bob</th>\n",
       "      <td>34</td>\n",
       "      <td>Male</td>\n",
       "      <td>2</td>\n",
       "    </tr>\n",
       "    <tr>\n",
       "      <th>Carol</th>\n",
       "      <td>44</td>\n",
       "      <td>Female</td>\n",
       "      <td>1</td>\n",
       "    </tr>\n",
       "    <tr>\n",
       "      <th>Dave</th>\n",
       "      <td>41</td>\n",
       "      <td>Male</td>\n",
       "      <td>2</td>\n",
       "    </tr>\n",
       "    <tr>\n",
       "      <th>Eve</th>\n",
       "      <td>52</td>\n",
       "      <td>Female</td>\n",
       "      <td>0</td>\n",
       "    </tr>\n",
       "    <tr>\n",
       "      <th>Frank</th>\n",
       "      <td>43</td>\n",
       "      <td>Male</td>\n",
       "      <td>1</td>\n",
       "    </tr>\n",
       "  </tbody>\n",
       "</table>\n",
       "</div>"
      ],
      "text/plain": [
       "       age  gender  marital_status\n",
       "name                              \n",
       "Alice   24  Female               0\n",
       "Bob     34    Male               2\n",
       "Carol   44  Female               1\n",
       "Dave    41    Male               2\n",
       "Eve     52  Female               0\n",
       "Frank   43    Male               1"
      ]
     },
     "execution_count": 84,
     "metadata": {},
     "output_type": "execute_result"
    }
   ],
   "source": [
    "df"
   ]
  },
  {
   "cell_type": "markdown",
   "metadata": {},
   "source": [
    "The following exerices that are marked with <font color=\"blue\">(INDPENDENT)</font> are review of the Pandas material from Thursday. Take a stab at doing them on your own. Feel free to use the [inclass notebook](https://github.com/ga-students/DS-SF-42/blob/master/classes/02/notebooks/INCLASS-codealong-02-the-pandas-library-starter-code.ipynb) as a reference.\n",
    "\n",
    "> ### <font color=\"blue\">(INDPENDENT)</font> Question 1.  Subset the dataframe on the age and gender columns"
   ]
  },
  {
   "cell_type": "code",
   "execution_count": 9,
   "metadata": {
    "collapsed": false
   },
   "outputs": [
    {
     "data": {
      "text/html": [
       "<div>\n",
       "<table border=\"1\" class=\"dataframe\">\n",
       "  <thead>\n",
       "    <tr style=\"text-align: right;\">\n",
       "      <th></th>\n",
       "      <th>age</th>\n",
       "      <th>gender</th>\n",
       "    </tr>\n",
       "    <tr>\n",
       "      <th>name</th>\n",
       "      <th></th>\n",
       "      <th></th>\n",
       "    </tr>\n",
       "  </thead>\n",
       "  <tbody>\n",
       "    <tr>\n",
       "      <th>Alice</th>\n",
       "      <td>24</td>\n",
       "      <td>Female</td>\n",
       "    </tr>\n",
       "    <tr>\n",
       "      <th>Bob</th>\n",
       "      <td>34</td>\n",
       "      <td>Male</td>\n",
       "    </tr>\n",
       "    <tr>\n",
       "      <th>Carol</th>\n",
       "      <td>44</td>\n",
       "      <td>Female</td>\n",
       "    </tr>\n",
       "    <tr>\n",
       "      <th>Dave</th>\n",
       "      <td>41</td>\n",
       "      <td>Male</td>\n",
       "    </tr>\n",
       "    <tr>\n",
       "      <th>Eve</th>\n",
       "      <td>52</td>\n",
       "      <td>Female</td>\n",
       "    </tr>\n",
       "    <tr>\n",
       "      <th>Frank</th>\n",
       "      <td>43</td>\n",
       "      <td>Male</td>\n",
       "    </tr>\n",
       "  </tbody>\n",
       "</table>\n",
       "</div>"
      ],
      "text/plain": [
       "       age  gender\n",
       "name              \n",
       "Alice   24  Female\n",
       "Bob     34    Male\n",
       "Carol   44  Female\n",
       "Dave    41    Male\n",
       "Eve     52  Female\n",
       "Frank   43    Male"
      ]
     },
     "execution_count": 9,
     "metadata": {},
     "output_type": "execute_result"
    }
   ],
   "source": [
    "# TODO\n",
    "df[['age', 'gender']]"
   ]
  },
  {
   "cell_type": "markdown",
   "metadata": {},
   "source": [
    "> ### <font color=\"blue\">(INDPENDENT)</font> Question 2.  Subset the dataframe on the age column alone, first as a `DataFrame`, then as a `Series`"
   ]
  },
  {
   "cell_type": "code",
   "execution_count": 11,
   "metadata": {
    "collapsed": false,
    "scrolled": true
   },
   "outputs": [
    {
     "data": {
      "text/html": [
       "<div>\n",
       "<table border=\"1\" class=\"dataframe\">\n",
       "  <thead>\n",
       "    <tr style=\"text-align: right;\">\n",
       "      <th></th>\n",
       "      <th>age</th>\n",
       "    </tr>\n",
       "    <tr>\n",
       "      <th>name</th>\n",
       "      <th></th>\n",
       "    </tr>\n",
       "  </thead>\n",
       "  <tbody>\n",
       "    <tr>\n",
       "      <th>Alice</th>\n",
       "      <td>24</td>\n",
       "    </tr>\n",
       "    <tr>\n",
       "      <th>Bob</th>\n",
       "      <td>34</td>\n",
       "    </tr>\n",
       "    <tr>\n",
       "      <th>Carol</th>\n",
       "      <td>44</td>\n",
       "    </tr>\n",
       "    <tr>\n",
       "      <th>Dave</th>\n",
       "      <td>41</td>\n",
       "    </tr>\n",
       "    <tr>\n",
       "      <th>Eve</th>\n",
       "      <td>52</td>\n",
       "    </tr>\n",
       "    <tr>\n",
       "      <th>Frank</th>\n",
       "      <td>43</td>\n",
       "    </tr>\n",
       "  </tbody>\n",
       "</table>\n",
       "</div>"
      ],
      "text/plain": [
       "       age\n",
       "name      \n",
       "Alice   24\n",
       "Bob     34\n",
       "Carol   44\n",
       "Dave    41\n",
       "Eve     52\n",
       "Frank   43"
      ]
     },
     "execution_count": 11,
     "metadata": {},
     "output_type": "execute_result"
    }
   ],
   "source": [
    "# TODO (DataFrame)\n",
    "df[['age']]"
   ]
  },
  {
   "cell_type": "code",
   "execution_count": 13,
   "metadata": {
    "collapsed": false
   },
   "outputs": [
    {
     "data": {
      "text/plain": [
       "pandas.core.series.Series"
      ]
     },
     "execution_count": 13,
     "metadata": {},
     "output_type": "execute_result"
    }
   ],
   "source": [
    "# TODO (Series)\n",
    "df['age']"
   ]
  },
  {
   "cell_type": "markdown",
   "metadata": {},
   "source": [
    "> ### <font color=\"blue\">(INDPENDENT)</font> Question 3.  Subset the dataframe on the rows Bob and Carol"
   ]
  },
  {
   "cell_type": "code",
   "execution_count": 89,
   "metadata": {
    "collapsed": false
   },
   "outputs": [
    {
     "data": {
      "text/html": [
       "<div>\n",
       "<table border=\"1\" class=\"dataframe\">\n",
       "  <thead>\n",
       "    <tr style=\"text-align: right;\">\n",
       "      <th></th>\n",
       "      <th>age</th>\n",
       "      <th>gender</th>\n",
       "      <th>marital_status</th>\n",
       "    </tr>\n",
       "    <tr>\n",
       "      <th>name</th>\n",
       "      <th></th>\n",
       "      <th></th>\n",
       "      <th></th>\n",
       "    </tr>\n",
       "  </thead>\n",
       "  <tbody>\n",
       "    <tr>\n",
       "      <th>Bob</th>\n",
       "      <td>34</td>\n",
       "      <td>Male</td>\n",
       "      <td>2</td>\n",
       "    </tr>\n",
       "    <tr>\n",
       "      <th>Carol</th>\n",
       "      <td>44</td>\n",
       "      <td>Female</td>\n",
       "      <td>1</td>\n",
       "    </tr>\n",
       "  </tbody>\n",
       "</table>\n",
       "</div>"
      ],
      "text/plain": [
       "       age  gender  marital_status\n",
       "name                              \n",
       "Bob     34    Male               2\n",
       "Carol   44  Female               1"
      ]
     },
     "execution_count": 89,
     "metadata": {},
     "output_type": "execute_result"
    }
   ],
   "source": [
    "# TODO\n",
    "df.loc[['Bob', 'Carol']]"
   ]
  },
  {
   "cell_type": "markdown",
   "metadata": {},
   "source": [
    "> ### <font color=\"blue\">(INDPENDENT)</font> Question 4.  Subset the dataframe on the row Eve alone, first as a `DataFrame`, then as a `Series`"
   ]
  },
  {
   "cell_type": "code",
   "execution_count": 12,
   "metadata": {
    "collapsed": false
   },
   "outputs": [
    {
     "data": {
      "text/html": [
       "<div>\n",
       "<table border=\"1\" class=\"dataframe\">\n",
       "  <thead>\n",
       "    <tr style=\"text-align: right;\">\n",
       "      <th></th>\n",
       "      <th>age</th>\n",
       "      <th>gender</th>\n",
       "      <th>marital_status</th>\n",
       "    </tr>\n",
       "    <tr>\n",
       "      <th>name</th>\n",
       "      <th></th>\n",
       "      <th></th>\n",
       "      <th></th>\n",
       "    </tr>\n",
       "  </thead>\n",
       "  <tbody>\n",
       "    <tr>\n",
       "      <th>Eve</th>\n",
       "      <td>52</td>\n",
       "      <td>Female</td>\n",
       "      <td>0</td>\n",
       "    </tr>\n",
       "  </tbody>\n",
       "</table>\n",
       "</div>"
      ],
      "text/plain": [
       "      age  gender  marital_status\n",
       "name                             \n",
       "Eve    52  Female               0"
      ]
     },
     "execution_count": 12,
     "metadata": {},
     "output_type": "execute_result"
    }
   ],
   "source": [
    "# TODO (DataFrame)\n",
    "df.loc[['Eve']]"
   ]
  },
  {
   "cell_type": "code",
   "execution_count": 13,
   "metadata": {
    "collapsed": false
   },
   "outputs": [
    {
     "data": {
      "text/plain": [
       "age                   52\n",
       "gender            Female\n",
       "marital_status         0\n",
       "Name: Eve, dtype: object"
      ]
     },
     "execution_count": 13,
     "metadata": {},
     "output_type": "execute_result"
    }
   ],
   "source": [
    "# TODO (Series)\n",
    "df.loc['Eve']"
   ]
  },
  {
   "cell_type": "markdown",
   "metadata": {},
   "source": [
    "> ### <font color=\"blue\">(INDPENDENT)</font> Question 5.  How old is Frank?"
   ]
  },
  {
   "cell_type": "code",
   "execution_count": 18,
   "metadata": {
    "collapsed": false
   },
   "outputs": [
    {
     "data": {
      "text/plain": [
       "name\n",
       "Frank    43\n",
       "Name: age, dtype: int64"
      ]
     },
     "execution_count": 18,
     "metadata": {},
     "output_type": "execute_result"
    }
   ],
   "source": [
    "# TODO\n",
    "df.loc[['Frank']].age"
   ]
  },
  {
   "cell_type": "markdown",
   "metadata": {},
   "source": [
    "> ### <font color=\"blue\">(INDPENDENT)</font> Question 6.  What is the men’s mean age, the women’s median age?"
   ]
  },
  {
   "cell_type": "code",
   "execution_count": 91,
   "metadata": {
    "collapsed": false
   },
   "outputs": [
    {
     "name": "stdout",
     "output_type": "stream",
     "text": [
      "Male mean age\n",
      "39.3333333333\n",
      "\n",
      "\n",
      "Female median age\n",
      "44.0\n"
     ]
    }
   ],
   "source": [
    "# TODO\n",
    "maleMask = df['gender'] == 'Male'\n",
    "print \"Male mean age\"\n",
    "print df[maleMask].age.mean()\n",
    "\n",
    "femaleMask = df['gender'] == 'Female'\n",
    "print \"\\n\\nFemale median age\"\n",
    "print df[femaleMask].age.median()"
   ]
  },
  {
   "cell_type": "markdown",
   "metadata": {},
   "source": [
    "## Part B"
   ]
  },
  {
   "cell_type": "markdown",
   "metadata": {},
   "source": [
    "- `.mean()`\n",
    "  - (http://pandas.pydata.org/pandas-docs/stable/generated/pandas.DataFrame.mean.html)\n",
    "  - (http://pandas.pydata.org/pandas-docs/stable/generated/pandas.Series.mean.html)\n",
    "- `.var()`, `.std()`\n",
    "  - (http://pandas.pydata.org/pandas-docs/stable/generated/pandas.DataFrame.var.html)\n",
    "  - (http://pandas.pydata.org/pandas-docs/stable/generated/pandas.Series.var.html)\n",
    "  - (http://pandas.pydata.org/pandas-docs/stable/generated/pandas.DataFrame.std.html)\n",
    "  - (http://pandas.pydata.org/pandas-docs/stable/generated/pandas.Series.std.html)"
   ]
  },
  {
   "cell_type": "code",
   "execution_count": 95,
   "metadata": {
    "collapsed": false
   },
   "outputs": [
    {
     "data": {
      "text/html": [
       "<div>\n",
       "<table border=\"1\" class=\"dataframe\">\n",
       "  <thead>\n",
       "    <tr style=\"text-align: right;\">\n",
       "      <th></th>\n",
       "      <th>Address</th>\n",
       "      <th>DateOfSale</th>\n",
       "      <th>SalePrice</th>\n",
       "      <th>IsAStudio</th>\n",
       "      <th>Beds</th>\n",
       "      <th>Baths</th>\n",
       "      <th>Size</th>\n",
       "      <th>LotSize</th>\n",
       "      <th>BuiltInYear</th>\n",
       "    </tr>\n",
       "    <tr>\n",
       "      <th>ID</th>\n",
       "      <th></th>\n",
       "      <th></th>\n",
       "      <th></th>\n",
       "      <th></th>\n",
       "      <th></th>\n",
       "      <th></th>\n",
       "      <th></th>\n",
       "      <th></th>\n",
       "      <th></th>\n",
       "    </tr>\n",
       "  </thead>\n",
       "  <tbody>\n",
       "    <tr>\n",
       "      <th>15063471</th>\n",
       "      <td>55 Vandewater St APT 9, San Francisco, CA</td>\n",
       "      <td>12/4/15</td>\n",
       "      <td>0.71</td>\n",
       "      <td>0.0</td>\n",
       "      <td>1.0</td>\n",
       "      <td>NaN</td>\n",
       "      <td>550.0</td>\n",
       "      <td>NaN</td>\n",
       "      <td>1980.0</td>\n",
       "    </tr>\n",
       "    <tr>\n",
       "      <th>15063505</th>\n",
       "      <td>740 Francisco St, San Francisco, CA</td>\n",
       "      <td>11/30/15</td>\n",
       "      <td>2.15</td>\n",
       "      <td>0.0</td>\n",
       "      <td>NaN</td>\n",
       "      <td>2.0</td>\n",
       "      <td>1430.0</td>\n",
       "      <td>2435.0</td>\n",
       "      <td>1948.0</td>\n",
       "    </tr>\n",
       "    <tr>\n",
       "      <th>15063609</th>\n",
       "      <td>819 Francisco St, San Francisco, CA</td>\n",
       "      <td>11/12/15</td>\n",
       "      <td>5.60</td>\n",
       "      <td>0.0</td>\n",
       "      <td>2.0</td>\n",
       "      <td>3.5</td>\n",
       "      <td>2040.0</td>\n",
       "      <td>3920.0</td>\n",
       "      <td>1976.0</td>\n",
       "    </tr>\n",
       "    <tr>\n",
       "      <th>15064044</th>\n",
       "      <td>199 Chestnut St APT 5, San Francisco, CA</td>\n",
       "      <td>12/11/15</td>\n",
       "      <td>1.50</td>\n",
       "      <td>0.0</td>\n",
       "      <td>1.0</td>\n",
       "      <td>1.0</td>\n",
       "      <td>1060.0</td>\n",
       "      <td>NaN</td>\n",
       "      <td>1930.0</td>\n",
       "    </tr>\n",
       "    <tr>\n",
       "      <th>15064257</th>\n",
       "      <td>111 Chestnut St APT 403, San Francisco, CA</td>\n",
       "      <td>1/15/16</td>\n",
       "      <td>0.97</td>\n",
       "      <td>0.0</td>\n",
       "      <td>2.0</td>\n",
       "      <td>2.0</td>\n",
       "      <td>1299.0</td>\n",
       "      <td>NaN</td>\n",
       "      <td>1993.0</td>\n",
       "    </tr>\n",
       "  </tbody>\n",
       "</table>\n",
       "</div>"
      ],
      "text/plain": [
       "                                             Address DateOfSale  SalePrice  \\\n",
       "ID                                                                           \n",
       "15063471   55 Vandewater St APT 9, San Francisco, CA    12/4/15       0.71   \n",
       "15063505         740 Francisco St, San Francisco, CA   11/30/15       2.15   \n",
       "15063609         819 Francisco St, San Francisco, CA   11/12/15       5.60   \n",
       "15064044    199 Chestnut St APT 5, San Francisco, CA   12/11/15       1.50   \n",
       "15064257  111 Chestnut St APT 403, San Francisco, CA    1/15/16       0.97   \n",
       "\n",
       "          IsAStudio  Beds  Baths    Size  LotSize  BuiltInYear  \n",
       "ID                                                              \n",
       "15063471        0.0   1.0    NaN   550.0      NaN       1980.0  \n",
       "15063505        0.0   NaN    2.0  1430.0   2435.0       1948.0  \n",
       "15063609        0.0   2.0    3.5  2040.0   3920.0       1976.0  \n",
       "15064044        0.0   1.0    1.0  1060.0      NaN       1930.0  \n",
       "15064257        0.0   2.0    2.0  1299.0      NaN       1993.0  "
      ]
     },
     "execution_count": 95,
     "metadata": {},
     "output_type": "execute_result"
    }
   ],
   "source": [
    "df = pd.read_csv('../datasets/dataset-04-zillow.csv', index_col = 'ID')\n",
    "df.head()"
   ]
  },
  {
   "cell_type": "markdown",
   "metadata": {},
   "source": [
    "### `Series.mean()` - Compute the `Series` mean value"
   ]
  },
  {
   "cell_type": "code",
   "execution_count": 33,
   "metadata": {
    "collapsed": false
   },
   "outputs": [
    {
     "data": {
      "text/plain": [
       "1.3974229429999998"
      ]
     },
     "execution_count": 33,
     "metadata": {},
     "output_type": "execute_result"
    }
   ],
   "source": [
    "df.SalePrice.mean()"
   ]
  },
  {
   "cell_type": "markdown",
   "metadata": {},
   "source": [
    "> #### Activity: What's `Size`'s mean?"
   ]
  },
  {
   "cell_type": "code",
   "execution_count": 35,
   "metadata": {
    "collapsed": false
   },
   "outputs": [
    {
     "data": {
      "text/plain": [
       "1641.3009307135471"
      ]
     },
     "execution_count": 35,
     "metadata": {},
     "output_type": "execute_result"
    }
   ],
   "source": [
    "# TODO\n",
    "df.Size.mean()"
   ]
  },
  {
   "cell_type": "markdown",
   "metadata": {},
   "source": [
    "> #### Activity: What fraction of the properties sold in the dataset are studios?"
   ]
  },
  {
   "cell_type": "code",
   "execution_count": 109,
   "metadata": {
    "collapsed": false
   },
   "outputs": [
    {
     "name": "stdout",
     "output_type": "stream",
     "text": [
      "0.029\n",
      "9000\n",
      "1000\n"
     ]
    }
   ],
   "source": [
    "# TODO\n",
    "studioCount = len(df.loc[df.IsAStudio == 1])\n",
    "print studioCount / float(len(df))\n",
    "print df.size\n",
    "print len(df)\n"
   ]
  },
  {
   "cell_type": "markdown",
   "metadata": {},
   "source": [
    "### `DataFrame.mean()` - Compute the `DataFrame` mean value"
   ]
  },
  {
   "cell_type": "code",
   "execution_count": 50,
   "metadata": {
    "collapsed": false
   },
   "outputs": [
    {
     "data": {
      "text/plain": [
       "SalePrice         1.397423\n",
       "IsAStudio         0.029412\n",
       "Beds              2.572967\n",
       "Baths             1.977548\n",
       "Size           1641.300931\n",
       "LotSize        3020.640288\n",
       "BuiltInYear    1947.533333\n",
       "dtype: float64"
      ]
     },
     "execution_count": 50,
     "metadata": {},
     "output_type": "execute_result"
    }
   ],
   "source": [
    "# TODO\n",
    "df.mean()"
   ]
  },
  {
   "cell_type": "markdown",
   "metadata": {},
   "source": [
    "### `.var()` - Compute the unbiased variance (normalized by `N-1` by default)"
   ]
  },
  {
   "cell_type": "code",
   "execution_count": 51,
   "metadata": {
    "collapsed": false
   },
   "outputs": [
    {
     "data": {
      "text/plain": [
       "SalePrice      3.015131e+00\n",
       "IsAStudio      2.857569e-02\n",
       "Beds           1.564729e+00\n",
       "Baths          1.277654e+00\n",
       "Size           1.054762e+06\n",
       "LotSize        8.142064e+06\n",
       "BuiltInYear    1.445639e+03\n",
       "dtype: float64"
      ]
     },
     "execution_count": 51,
     "metadata": {},
     "output_type": "execute_result"
    }
   ],
   "source": [
    "# TODO\n",
    "df.var()"
   ]
  },
  {
   "cell_type": "markdown",
   "metadata": {},
   "source": [
    "> #### Activity: What's the variance for the number of beds in the dataset?"
   ]
  },
  {
   "cell_type": "code",
   "execution_count": 52,
   "metadata": {
    "collapsed": false
   },
   "outputs": [
    {
     "data": {
      "text/plain": [
       "1.5647293928888621"
      ]
     },
     "execution_count": 52,
     "metadata": {},
     "output_type": "execute_result"
    }
   ],
   "source": [
    "# TODO\n",
    "df.Beds.var()"
   ]
  },
  {
   "cell_type": "markdown",
   "metadata": {},
   "source": [
    "### `.std()` - Compute the unbiased standard deviation (normalized by `N-1` by default)"
   ]
  },
  {
   "cell_type": "code",
   "execution_count": 53,
   "metadata": {
    "collapsed": false
   },
   "outputs": [
    {
     "data": {
      "text/plain": [
       "SalePrice         1.736413\n",
       "IsAStudio         0.169043\n",
       "Beds              1.250891\n",
       "Baths             1.130334\n",
       "Size           1027.016175\n",
       "LotSize        2853.430139\n",
       "BuiltInYear      38.021563\n",
       "dtype: float64"
      ]
     },
     "execution_count": 53,
     "metadata": {},
     "output_type": "execute_result"
    }
   ],
   "source": [
    "# TODO\n",
    "\n",
    "df.std()"
   ]
  },
  {
   "cell_type": "markdown",
   "metadata": {},
   "source": [
    "> #### Activity: What's the standard deviation for the number of beds in the dataset?"
   ]
  },
  {
   "cell_type": "code",
   "execution_count": 54,
   "metadata": {
    "collapsed": false
   },
   "outputs": [
    {
     "data": {
      "text/plain": [
       "1.2508914392899417"
      ]
     },
     "execution_count": 54,
     "metadata": {},
     "output_type": "execute_result"
    }
   ],
   "source": [
    "# TODO\n",
    "df.Beds.std()"
   ]
  },
  {
   "cell_type": "markdown",
   "metadata": {},
   "source": [
    "## Part C"
   ]
  },
  {
   "cell_type": "markdown",
   "metadata": {},
   "source": [
    "- `.median()`\n",
    "  - (http://pandas.pydata.org/pandas-docs/stable/generated/pandas.DataFrame.median.html)\n",
    "  - (http://pandas.pydata.org/pandas-docs/stable/generated/pandas.Series.median.html)\n",
    "- `.count()`, `.sum()`\n",
    "  - (http://pandas.pydata.org/pandas-docs/stable/generated/pandas.DataFrame.count.html)\n",
    "  - (http://pandas.pydata.org/pandas-docs/stable/generated/pandas.Series.count.html)\n",
    "  - (http://pandas.pydata.org/pandas-docs/stable/generated/pandas.DataFrame.sum.html)\n",
    "  - (http://pandas.pydata.org/pandas-docs/stable/generated/pandas.Series.sum.html)\n",
    "- `.count()`\n",
    "  - (http://pandas.pydata.org/pandas-docs/stable/generated/pandas.DataFrame.dropna.html)\n",
    "- `.min()`, `.max()`\n",
    "  - (http://pandas.pydata.org/pandas-docs/stable/generated/pandas.DataFrame.min.html)\n",
    "  - (http://pandas.pydata.org/pandas-docs/stable/generated/pandas.Series.min.html)\n",
    "  - (http://pandas.pydata.org/pandas-docs/stable/generated/pandas.DataFrame.max.html)\n",
    "  - (http://pandas.pydata.org/pandas-docs/stable/generated/pandas.Series.max.html)\n",
    "- `.quantile()`\n",
    "  - (http://pandas.pydata.org/pandas-docs/stable/generated/pandas.DataFrame.quantile.html)\n",
    "  - (http://pandas.pydata.org/pandas-docs/stable/generated/pandas.Series.quantile.html)\n",
    "- `.describe()`\n",
    "  - (http://pandas.pydata.org/pandas-docs/stable/generated/pandas.DataFrame.describe.html)"
   ]
  },
  {
   "cell_type": "markdown",
   "metadata": {},
   "source": [
    "### `.median()` - Compute the median value"
   ]
  },
  {
   "cell_type": "code",
   "execution_count": 110,
   "metadata": {
    "collapsed": false
   },
   "outputs": [
    {
     "data": {
      "text/plain": [
       "SalePrice         1.1\n",
       "IsAStudio         0.0\n",
       "Beds              2.0\n",
       "Baths             2.0\n",
       "Size           1350.0\n",
       "LotSize        2622.0\n",
       "BuiltInYear    1939.0\n",
       "dtype: float64"
      ]
     },
     "execution_count": 110,
     "metadata": {},
     "output_type": "execute_result"
    }
   ],
   "source": [
    "# TODO\n",
    "df.median()"
   ]
  },
  {
   "cell_type": "markdown",
   "metadata": {},
   "source": [
    "> #### Activity: What's the median sale price for properties in the dataset?"
   ]
  },
  {
   "cell_type": "code",
   "execution_count": 8,
   "metadata": {
    "collapsed": false
   },
   "outputs": [
    {
     "data": {
      "text/plain": [
       "1.1"
      ]
     },
     "execution_count": 8,
     "metadata": {},
     "output_type": "execute_result"
    }
   ],
   "source": [
    "# TODO\n",
    "df.SalePrice.median()"
   ]
  },
  {
   "cell_type": "markdown",
   "metadata": {},
   "source": [
    "### `.count()` - Compute the number of rows/observations without `NaN` and `.sum()` - Compute the sum of the values"
   ]
  },
  {
   "cell_type": "code",
   "execution_count": 42,
   "metadata": {
    "collapsed": false
   },
   "outputs": [
    {
     "data": {
      "text/plain": [
       "Address        1000\n",
       "DateOfSale     1000\n",
       "SalePrice      1000\n",
       "IsAStudio       986\n",
       "Beds            836\n",
       "Baths           942\n",
       "Size            967\n",
       "LotSize         556\n",
       "BuiltInYear     975\n",
       "dtype: int64"
      ]
     },
     "execution_count": 42,
     "metadata": {},
     "output_type": "execute_result"
    }
   ],
   "source": [
    "df.count()"
   ]
  },
  {
   "cell_type": "code",
   "execution_count": 47,
   "metadata": {
    "collapsed": false
   },
   "outputs": [
    {
     "data": {
      "text/plain": [
       "986"
      ]
     },
     "execution_count": 47,
     "metadata": {},
     "output_type": "execute_result"
    }
   ],
   "source": [
    "df.IsAStudio.count()\n"
   ]
  },
  {
   "cell_type": "markdown",
   "metadata": {},
   "source": [
    "Which leaves 14 houses for which we don't know if they are studios or not."
   ]
  },
  {
   "cell_type": "code",
   "execution_count": 44,
   "metadata": {
    "collapsed": false
   },
   "outputs": [
    {
     "data": {
      "text/plain": [
       "1000"
      ]
     },
     "execution_count": 44,
     "metadata": {},
     "output_type": "execute_result"
    }
   ],
   "source": [
    "df.IsAStudio.dropna().shape[0]+ df.IsAStudio.isnull().sum()"
   ]
  },
  {
   "cell_type": "code",
   "execution_count": 45,
   "metadata": {
    "collapsed": false
   },
   "outputs": [
    {
     "data": {
      "text/plain": [
       "29.0"
      ]
     },
     "execution_count": 45,
     "metadata": {},
     "output_type": "execute_result"
    }
   ],
   "source": [
    "df.IsAStudio.sum()"
   ]
  },
  {
   "cell_type": "markdown",
   "metadata": {},
   "source": [
    "29 properties are studios."
   ]
  },
  {
   "cell_type": "markdown",
   "metadata": {},
   "source": [
    "### `.min()` and `.max()` - Compute the minimum and maximum values"
   ]
  },
  {
   "cell_type": "code",
   "execution_count": 48,
   "metadata": {
    "collapsed": false
   },
   "outputs": [
    {
     "data": {
      "text/plain": [
       "Address        1 Crescent Way APT 1402, San Francisco, CA\n",
       "DateOfSale                                        1/10/16\n",
       "SalePrice                                           1e-06\n",
       "IsAStudio                                               0\n",
       "Beds                                                    1\n",
       "Baths                                                   1\n",
       "Size                                                  264\n",
       "LotSize                                                44\n",
       "BuiltInYear                                          1870\n",
       "dtype: object"
      ]
     },
     "execution_count": 48,
     "metadata": {},
     "output_type": "execute_result"
    }
   ],
   "source": [
    "df.min()"
   ]
  },
  {
   "cell_type": "code",
   "execution_count": 49,
   "metadata": {
    "collapsed": false
   },
   "outputs": [
    {
     "data": {
      "text/plain": [
       "Address        San Carlos St, Carmel, CA\n",
       "DateOfSale                        2/9/16\n",
       "SalePrice                           32.7\n",
       "IsAStudio                              1\n",
       "Beds                                   9\n",
       "Baths                                 14\n",
       "Size                               11500\n",
       "LotSize                            47916\n",
       "BuiltInYear                         2015\n",
       "dtype: object"
      ]
     },
     "execution_count": 49,
     "metadata": {},
     "output_type": "execute_result"
    }
   ],
   "source": [
    "df.max()"
   ]
  },
  {
   "cell_type": "markdown",
   "metadata": {},
   "source": [
    "> #### <font color=\"blue\">(INDPENDENT)</font> Activity: What are properties that were sold at the lowest price?  At what price?"
   ]
  },
  {
   "cell_type": "code",
   "execution_count": 53,
   "metadata": {
    "collapsed": false
   },
   "outputs": [
    {
     "data": {
      "text/html": [
       "<div>\n",
       "<table border=\"1\" class=\"dataframe\">\n",
       "  <thead>\n",
       "    <tr style=\"text-align: right;\">\n",
       "      <th></th>\n",
       "      <th>Address</th>\n",
       "      <th>DateOfSale</th>\n",
       "      <th>SalePrice</th>\n",
       "      <th>IsAStudio</th>\n",
       "      <th>Beds</th>\n",
       "      <th>Baths</th>\n",
       "      <th>Size</th>\n",
       "      <th>LotSize</th>\n",
       "      <th>BuiltInYear</th>\n",
       "    </tr>\n",
       "    <tr>\n",
       "      <th>ID</th>\n",
       "      <th></th>\n",
       "      <th></th>\n",
       "      <th></th>\n",
       "      <th></th>\n",
       "      <th></th>\n",
       "      <th></th>\n",
       "      <th></th>\n",
       "      <th></th>\n",
       "      <th></th>\n",
       "    </tr>\n",
       "  </thead>\n",
       "  <tbody>\n",
       "    <tr>\n",
       "      <th>15149005</th>\n",
       "      <td>251-253 Missouri St, San Francisco, CA</td>\n",
       "      <td>12/23/15</td>\n",
       "      <td>0.000001</td>\n",
       "      <td>0.0</td>\n",
       "      <td>7.0</td>\n",
       "      <td>6.0</td>\n",
       "      <td>2904.0</td>\n",
       "      <td>2482.0</td>\n",
       "      <td>1900.0</td>\n",
       "    </tr>\n",
       "  </tbody>\n",
       "</table>\n",
       "</div>"
      ],
      "text/plain": [
       "                                         Address DateOfSale  SalePrice  \\\n",
       "ID                                                                       \n",
       "15149005  251-253 Missouri St, San Francisco, CA   12/23/15   0.000001   \n",
       "\n",
       "          IsAStudio  Beds  Baths    Size  LotSize  BuiltInYear  \n",
       "ID                                                              \n",
       "15149005        0.0   7.0    6.0  2904.0   2482.0       1900.0  "
      ]
     },
     "execution_count": 53,
     "metadata": {},
     "output_type": "execute_result"
    }
   ],
   "source": [
    "# TODO\n",
    "min = df.SalePrice.min()\n",
    "df.loc[df.SalePrice == min]"
   ]
  },
  {
   "cell_type": "markdown",
   "metadata": {},
   "source": [
    "> #### <font color=\"blue\">(INDPENDENT)</font> Activity: What are properties that were sold at the highest price?  At what price?"
   ]
  },
  {
   "cell_type": "code",
   "execution_count": 54,
   "metadata": {
    "collapsed": false
   },
   "outputs": [
    {
     "data": {
      "text/html": [
       "<div>\n",
       "<table border=\"1\" class=\"dataframe\">\n",
       "  <thead>\n",
       "    <tr style=\"text-align: right;\">\n",
       "      <th></th>\n",
       "      <th>Address</th>\n",
       "      <th>DateOfSale</th>\n",
       "      <th>SalePrice</th>\n",
       "      <th>IsAStudio</th>\n",
       "      <th>Beds</th>\n",
       "      <th>Baths</th>\n",
       "      <th>Size</th>\n",
       "      <th>LotSize</th>\n",
       "      <th>BuiltInYear</th>\n",
       "    </tr>\n",
       "    <tr>\n",
       "      <th>ID</th>\n",
       "      <th></th>\n",
       "      <th></th>\n",
       "      <th></th>\n",
       "      <th></th>\n",
       "      <th></th>\n",
       "      <th></th>\n",
       "      <th></th>\n",
       "      <th></th>\n",
       "      <th></th>\n",
       "    </tr>\n",
       "  </thead>\n",
       "  <tbody>\n",
       "    <tr>\n",
       "      <th>15083161</th>\n",
       "      <td>1825 Scott St, San Francisco, CA</td>\n",
       "      <td>11/23/15</td>\n",
       "      <td>32.7</td>\n",
       "      <td>0.0</td>\n",
       "      <td>NaN</td>\n",
       "      <td>1.0</td>\n",
       "      <td>1100.0</td>\n",
       "      <td>1694.0</td>\n",
       "      <td>1900.0</td>\n",
       "    </tr>\n",
       "  </tbody>\n",
       "</table>\n",
       "</div>"
      ],
      "text/plain": [
       "                                   Address DateOfSale  SalePrice  IsAStudio  \\\n",
       "ID                                                                            \n",
       "15083161  1825 Scott St, San Francisco, CA   11/23/15       32.7        0.0   \n",
       "\n",
       "          Beds  Baths    Size  LotSize  BuiltInYear  \n",
       "ID                                                   \n",
       "15083161   NaN    1.0  1100.0   1694.0       1900.0  "
      ]
     },
     "execution_count": 54,
     "metadata": {},
     "output_type": "execute_result"
    }
   ],
   "source": [
    "# TODO\n",
    "max = df.SalePrice.max()\n",
    "df.loc[df.SalePrice == max]"
   ]
  },
  {
   "cell_type": "markdown",
   "metadata": {},
   "source": [
    "### `.quantile()` - Compute values at the given quantile"
   ]
  },
  {
   "cell_type": "code",
   "execution_count": 119,
   "metadata": {
    "collapsed": false
   },
   "outputs": [
    {
     "data": {
      "text/plain": [
       "SalePrice         1.1\n",
       "IsAStudio         0.0\n",
       "Beds              2.0\n",
       "Baths             2.0\n",
       "Size           1350.0\n",
       "LotSize        2622.0\n",
       "BuiltInYear    1939.0\n",
       "Name: 0.5, dtype: float64"
      ]
     },
     "execution_count": 119,
     "metadata": {},
     "output_type": "execute_result"
    }
   ],
   "source": [
    "df.quantile(.5)"
   ]
  },
  {
   "cell_type": "markdown",
   "metadata": {},
   "source": [
    "# By definition, the median is the 50% quantile."
   ]
  },
  {
   "cell_type": "code",
   "execution_count": 56,
   "metadata": {
    "collapsed": false
   },
   "outputs": [
    {
     "data": {
      "text/plain": [
       "SalePrice         1.1\n",
       "IsAStudio         0.0\n",
       "Beds              2.0\n",
       "Baths             2.0\n",
       "Size           1350.0\n",
       "LotSize        2622.0\n",
       "BuiltInYear    1939.0\n",
       "dtype: float64"
      ]
     },
     "execution_count": 56,
     "metadata": {},
     "output_type": "execute_result"
    }
   ],
   "source": [
    "df.median()"
   ]
  },
  {
   "cell_type": "code",
   "execution_count": 57,
   "metadata": {
    "collapsed": false
   },
   "outputs": [
    {
     "data": {
      "text/plain": [
       "SalePrice         0.8\n",
       "IsAStudio         0.0\n",
       "Beds              2.0\n",
       "Baths             1.0\n",
       "Size           1027.5\n",
       "LotSize        2375.0\n",
       "BuiltInYear    1912.0\n",
       "Name: 0.25, dtype: float64"
      ]
     },
     "execution_count": 57,
     "metadata": {},
     "output_type": "execute_result"
    }
   ],
   "source": [
    "df.quantile(.25)"
   ]
  },
  {
   "cell_type": "code",
   "execution_count": 58,
   "metadata": {
    "collapsed": false
   },
   "outputs": [
    {
     "data": {
      "text/plain": [
       "SalePrice         1.5325\n",
       "IsAStudio         0.0000\n",
       "Beds              3.0000\n",
       "Baths             2.0000\n",
       "Size           1947.5000\n",
       "LotSize        3049.0000\n",
       "BuiltInYear    1986.0000\n",
       "Name: 0.75, dtype: float64"
      ]
     },
     "execution_count": 58,
     "metadata": {},
     "output_type": "execute_result"
    }
   ],
   "source": [
    "df.quantile(.75)"
   ]
  },
  {
   "cell_type": "markdown",
   "metadata": {},
   "source": [
    "### `.describe()` - Generate various summary statistics"
   ]
  },
  {
   "cell_type": "code",
   "execution_count": 59,
   "metadata": {
    "collapsed": false
   },
   "outputs": [
    {
     "data": {
      "text/html": [
       "<div>\n",
       "<table border=\"1\" class=\"dataframe\">\n",
       "  <thead>\n",
       "    <tr style=\"text-align: right;\">\n",
       "      <th></th>\n",
       "      <th>SalePrice</th>\n",
       "      <th>IsAStudio</th>\n",
       "      <th>Beds</th>\n",
       "      <th>Baths</th>\n",
       "      <th>Size</th>\n",
       "      <th>LotSize</th>\n",
       "      <th>BuiltInYear</th>\n",
       "    </tr>\n",
       "  </thead>\n",
       "  <tbody>\n",
       "    <tr>\n",
       "      <th>count</th>\n",
       "      <td>1000.000000</td>\n",
       "      <td>986.000000</td>\n",
       "      <td>836.000000</td>\n",
       "      <td>942.000000</td>\n",
       "      <td>967.000000</td>\n",
       "      <td>556.000000</td>\n",
       "      <td>975.000000</td>\n",
       "    </tr>\n",
       "    <tr>\n",
       "      <th>mean</th>\n",
       "      <td>1.397423</td>\n",
       "      <td>0.029412</td>\n",
       "      <td>2.572967</td>\n",
       "      <td>1.977548</td>\n",
       "      <td>1641.300931</td>\n",
       "      <td>3020.640288</td>\n",
       "      <td>1947.533333</td>\n",
       "    </tr>\n",
       "    <tr>\n",
       "      <th>std</th>\n",
       "      <td>1.736413</td>\n",
       "      <td>0.169043</td>\n",
       "      <td>1.250891</td>\n",
       "      <td>1.130334</td>\n",
       "      <td>1027.016175</td>\n",
       "      <td>2853.430139</td>\n",
       "      <td>38.021563</td>\n",
       "    </tr>\n",
       "    <tr>\n",
       "      <th>min</th>\n",
       "      <td>0.000001</td>\n",
       "      <td>0.000000</td>\n",
       "      <td>1.000000</td>\n",
       "      <td>1.000000</td>\n",
       "      <td>264.000000</td>\n",
       "      <td>44.000000</td>\n",
       "      <td>1870.000000</td>\n",
       "    </tr>\n",
       "    <tr>\n",
       "      <th>25%</th>\n",
       "      <td>0.800000</td>\n",
       "      <td>0.000000</td>\n",
       "      <td>2.000000</td>\n",
       "      <td>1.000000</td>\n",
       "      <td>1027.500000</td>\n",
       "      <td>2375.000000</td>\n",
       "      <td>1912.000000</td>\n",
       "    </tr>\n",
       "    <tr>\n",
       "      <th>50%</th>\n",
       "      <td>1.100000</td>\n",
       "      <td>0.000000</td>\n",
       "      <td>2.000000</td>\n",
       "      <td>2.000000</td>\n",
       "      <td>1350.000000</td>\n",
       "      <td>2622.000000</td>\n",
       "      <td>1939.000000</td>\n",
       "    </tr>\n",
       "    <tr>\n",
       "      <th>75%</th>\n",
       "      <td>1.532500</td>\n",
       "      <td>0.000000</td>\n",
       "      <td>3.000000</td>\n",
       "      <td>2.000000</td>\n",
       "      <td>1947.500000</td>\n",
       "      <td>3049.000000</td>\n",
       "      <td>1986.000000</td>\n",
       "    </tr>\n",
       "    <tr>\n",
       "      <th>max</th>\n",
       "      <td>32.700000</td>\n",
       "      <td>1.000000</td>\n",
       "      <td>9.000000</td>\n",
       "      <td>14.000000</td>\n",
       "      <td>11500.000000</td>\n",
       "      <td>47916.000000</td>\n",
       "      <td>2015.000000</td>\n",
       "    </tr>\n",
       "  </tbody>\n",
       "</table>\n",
       "</div>"
      ],
      "text/plain": [
       "         SalePrice   IsAStudio        Beds       Baths          Size  \\\n",
       "count  1000.000000  986.000000  836.000000  942.000000    967.000000   \n",
       "mean      1.397423    0.029412    2.572967    1.977548   1641.300931   \n",
       "std       1.736413    0.169043    1.250891    1.130334   1027.016175   \n",
       "min       0.000001    0.000000    1.000000    1.000000    264.000000   \n",
       "25%       0.800000    0.000000    2.000000    1.000000   1027.500000   \n",
       "50%       1.100000    0.000000    2.000000    2.000000   1350.000000   \n",
       "75%       1.532500    0.000000    3.000000    2.000000   1947.500000   \n",
       "max      32.700000    1.000000    9.000000   14.000000  11500.000000   \n",
       "\n",
       "            LotSize  BuiltInYear  \n",
       "count    556.000000   975.000000  \n",
       "mean    3020.640288  1947.533333  \n",
       "std     2853.430139    38.021563  \n",
       "min       44.000000  1870.000000  \n",
       "25%     2375.000000  1912.000000  \n",
       "50%     2622.000000  1939.000000  \n",
       "75%     3049.000000  1986.000000  \n",
       "max    47916.000000  2015.000000  "
      ]
     },
     "execution_count": 59,
     "metadata": {},
     "output_type": "execute_result"
    }
   ],
   "source": [
    "df.describe()"
   ]
  },
  {
   "cell_type": "code",
   "execution_count": 60,
   "metadata": {
    "collapsed": false
   },
   "outputs": [
    {
     "data": {
      "text/plain": [
       "count    1000.000000\n",
       "mean        1.397423\n",
       "std         1.736413\n",
       "min         0.000001\n",
       "25%         0.800000\n",
       "50%         1.100000\n",
       "75%         1.532500\n",
       "max        32.700000\n",
       "Name: SalePrice, dtype: float64"
      ]
     },
     "execution_count": 60,
     "metadata": {},
     "output_type": "execute_result"
    }
   ],
   "source": [
    "df.SalePrice.describe()"
   ]
  },
  {
   "cell_type": "code",
   "execution_count": 61,
   "metadata": {
    "collapsed": false
   },
   "outputs": [
    {
     "data": {
      "text/plain": [
       "count                                        1000\n",
       "unique                                        993\n",
       "top       1954 Golden Gate Ave, San Francisco, CA\n",
       "freq                                            2\n",
       "Name: Address, dtype: object"
      ]
     },
     "execution_count": 61,
     "metadata": {},
     "output_type": "execute_result"
    }
   ],
   "source": [
    "df.Address.describe()"
   ]
  },
  {
   "cell_type": "markdown",
   "metadata": {},
   "source": [
    "## Part D"
   ]
  },
  {
   "cell_type": "markdown",
   "metadata": {},
   "source": [
    "- Boxplots\n",
    "  - (http://pandas.pydata.org/pandas-docs/stable/visualization.html#box-plots)\n",
    "  - (http://pandas.pydata.org/pandas-docs/stable/generated/pandas.DataFrame.plot.html) with `kind = 'box'`\n",
    "  - (http://pandas.pydata.org/pandas-docs/stable/generated/pandas.Series.plot.html) with `kind = 'box'`\n",
    "  - (http://pandas.pydata.org/pandas-docs/stable/generated/pandas.DataFrame.boxplot.html)"
   ]
  },
  {
   "cell_type": "code",
   "execution_count": 62,
   "metadata": {
    "collapsed": false
   },
   "outputs": [
    {
     "data": {
      "text/plain": [
       "<matplotlib.axes._subplots.AxesSubplot at 0x10ec65190>"
      ]
     },
     "execution_count": 62,
     "metadata": {},
     "output_type": "execute_result"
    },
    {
     "data": {
      "image/png": "[encoded data removed]",
      "text/plain": [
       "<matplotlib.figure.Figure at 0x10e908c90>"
      ]
     },
     "metadata": {},
     "output_type": "display_data"
    }
   ],
   "source": [
    "df.SalePrice.plot(kind = 'box', figsize = (8, 8))"
   ]
  },
  {
   "cell_type": "code",
   "execution_count": 63,
   "metadata": {
    "collapsed": false
   },
   "outputs": [
    {
     "data": {
      "text/plain": [
       "<matplotlib.axes._subplots.AxesSubplot at 0x10ef38810>"
      ]
     },
     "execution_count": 63,
     "metadata": {},
     "output_type": "execute_result"
    },
    {
     "data": {
      "image/png": "[encoded data removed]",
      "text/plain": [
       "<matplotlib.figure.Figure at 0x111586c90>"
      ]
     },
     "metadata": {},
     "output_type": "display_data"
    }
   ],
   "source": [
    "df[['SalePrice']].boxplot(figsize = (8, 8))"
   ]
  },
  {
   "cell_type": "markdown",
   "metadata": {},
   "source": [
    "> In the same plot, plot the boxplots of `Beds` and `Baths`"
   ]
  },
  {
   "cell_type": "code",
   "execution_count": 64,
   "metadata": {
    "collapsed": false
   },
   "outputs": [
    {
     "data": {
      "text/plain": [
       "<matplotlib.axes._subplots.AxesSubplot at 0x1115baf50>"
      ]
     },
     "execution_count": 64,
     "metadata": {},
     "output_type": "execute_result"
    },
    {
     "data": {
      "image/png": "[encoded data removed]",
      "text/plain": [
       "<matplotlib.figure.Figure at 0x11166f990>"
      ]
     },
     "metadata": {},
     "output_type": "display_data"
    }
   ],
   "source": [
    "# TODO\n",
    "df[['Beds', 'Baths']].boxplot(figsize = (8, 8))"
   ]
  },
  {
   "cell_type": "markdown",
   "metadata": {},
   "source": [
    "## Part E"
   ]
  },
  {
   "cell_type": "markdown",
   "metadata": {},
   "source": [
    "- Histograms\n",
    "  - (http://pandas.pydata.org/pandas-docs/stable/visualization.html#histograms)\n",
    "  - (http://pandas.pydata.org/pandas-docs/stable/generated/pandas.DataFrame.plot.html) with `kind = 'hist'`\n",
    "  - (http://pandas.pydata.org/pandas-docs/stable/generated/pandas.Series.plot.html) with `kind = 'hist'`\n",
    "  - (http://pandas.pydata.org/pandas-docs/stable/generated/pandas.DataFrame.hist.html)\n",
    "  - ((http://pandas.pydata.org/pandas-docs/stable/generated/pandas.Series.hist.html)"
   ]
  },
  {
   "cell_type": "code",
   "execution_count": 65,
   "metadata": {
    "collapsed": false
   },
   "outputs": [
    {
     "data": {
      "text/plain": [
       "<matplotlib.axes._subplots.AxesSubplot at 0x10efe8110>"
      ]
     },
     "execution_count": 65,
     "metadata": {},
     "output_type": "execute_result"
    },
    {
     "data": {
      "image/png": "[encoded data removed]",
      "text/plain": [
       "<matplotlib.figure.Figure at 0x11179c2d0>"
      ]
     },
     "metadata": {},
     "output_type": "display_data"
    }
   ],
   "source": [
    "df.Beds.plot(kind = 'hist', figsize = (8, 8))"
   ]
  },
  {
   "cell_type": "code",
   "execution_count": 66,
   "metadata": {
    "collapsed": false
   },
   "outputs": [
    {
     "data": {
      "text/plain": [
       "<matplotlib.axes._subplots.AxesSubplot at 0x1118e7690>"
      ]
     },
     "execution_count": 66,
     "metadata": {},
     "output_type": "execute_result"
    },
    {
     "data": {
      "image/png": "[encoded data removed]",
      "text/plain": [
       "<matplotlib.figure.Figure at 0x11191a510>"
      ]
     },
     "metadata": {},
     "output_type": "display_data"
    }
   ],
   "source": [
    "df.Beds.hist(figsize = (8, 8))"
   ]
  },
  {
   "cell_type": "markdown",
   "metadata": {},
   "source": [
    "> #### Activity: In the same plot, plot the histograms of `Beds` and `Baths`"
   ]
  },
  {
   "cell_type": "code",
   "execution_count": 67,
   "metadata": {
    "collapsed": false
   },
   "outputs": [
    {
     "data": {
      "text/plain": [
       "array([[<matplotlib.axes._subplots.AxesSubplot object at 0x111ad2790>,\n",
       "        <matplotlib.axes._subplots.AxesSubplot object at 0x111c5b9d0>]], dtype=object)"
      ]
     },
     "execution_count": 67,
     "metadata": {},
     "output_type": "execute_result"
    },
    {
     "data": {
      "image/png": "[encoded data removed]",
      "text/plain": [
       "<matplotlib.figure.Figure at 0x111af0ed0>"
      ]
     },
     "metadata": {},
     "output_type": "display_data"
    }
   ],
   "source": [
    "# TODO\n",
    "df[['Beds', 'Baths']].hist(figsize = (8,8))"
   ]
  },
  {
   "cell_type": "markdown",
   "metadata": {},
   "source": [
    "## Part F"
   ]
  },
  {
   "cell_type": "markdown",
   "metadata": {},
   "source": [
    "- `.mode()`\n",
    "  - (http://pandas.pydata.org/pandas-docs/stable/generated/pandas.DataFrame.mode.html)\n",
    "  - ((http://pandas.pydata.org/pandas-docs/stable/generated/pandas.Series.mode.html)"
   ]
  },
  {
   "cell_type": "markdown",
   "metadata": {},
   "source": [
    "### `.mode()` - Compute the mode value(s)"
   ]
  },
  {
   "cell_type": "code",
   "execution_count": 68,
   "metadata": {
    "collapsed": false
   },
   "outputs": [
    {
     "data": {
      "text/html": [
       "<div>\n",
       "<table border=\"1\" class=\"dataframe\">\n",
       "  <thead>\n",
       "    <tr style=\"text-align: right;\">\n",
       "      <th></th>\n",
       "      <th>Address</th>\n",
       "      <th>DateOfSale</th>\n",
       "      <th>SalePrice</th>\n",
       "      <th>IsAStudio</th>\n",
       "      <th>Beds</th>\n",
       "      <th>Baths</th>\n",
       "      <th>Size</th>\n",
       "      <th>LotSize</th>\n",
       "      <th>BuiltInYear</th>\n",
       "    </tr>\n",
       "  </thead>\n",
       "  <tbody>\n",
       "    <tr>\n",
       "      <th>0</th>\n",
       "      <td>1 Mono St # B, San Francisco, CA</td>\n",
       "      <td>11/20/15</td>\n",
       "      <td>1.1</td>\n",
       "      <td>0.0</td>\n",
       "      <td>2.0</td>\n",
       "      <td>1.0</td>\n",
       "      <td>1000.0</td>\n",
       "      <td>2495.0</td>\n",
       "      <td>1900.0</td>\n",
       "    </tr>\n",
       "    <tr>\n",
       "      <th>1</th>\n",
       "      <td>150 Grand View Ave, San Francisco, CA</td>\n",
       "      <td>NaN</td>\n",
       "      <td>NaN</td>\n",
       "      <td>NaN</td>\n",
       "      <td>NaN</td>\n",
       "      <td>NaN</td>\n",
       "      <td>NaN</td>\n",
       "      <td>NaN</td>\n",
       "      <td>NaN</td>\n",
       "    </tr>\n",
       "    <tr>\n",
       "      <th>2</th>\n",
       "      <td>1915 Diamond St, San Francisco, CA</td>\n",
       "      <td>NaN</td>\n",
       "      <td>NaN</td>\n",
       "      <td>NaN</td>\n",
       "      <td>NaN</td>\n",
       "      <td>NaN</td>\n",
       "      <td>NaN</td>\n",
       "      <td>NaN</td>\n",
       "      <td>NaN</td>\n",
       "    </tr>\n",
       "    <tr>\n",
       "      <th>3</th>\n",
       "      <td>1954 Golden Gate Ave, San Francisco, CA</td>\n",
       "      <td>NaN</td>\n",
       "      <td>NaN</td>\n",
       "      <td>NaN</td>\n",
       "      <td>NaN</td>\n",
       "      <td>NaN</td>\n",
       "      <td>NaN</td>\n",
       "      <td>NaN</td>\n",
       "      <td>NaN</td>\n",
       "    </tr>\n",
       "    <tr>\n",
       "      <th>4</th>\n",
       "      <td>2299 Market St APT 502, San Francisco, CA</td>\n",
       "      <td>NaN</td>\n",
       "      <td>NaN</td>\n",
       "      <td>NaN</td>\n",
       "      <td>NaN</td>\n",
       "      <td>NaN</td>\n",
       "      <td>NaN</td>\n",
       "      <td>NaN</td>\n",
       "      <td>NaN</td>\n",
       "    </tr>\n",
       "    <tr>\n",
       "      <th>5</th>\n",
       "      <td>643 Natoma St, San Francisco, CA</td>\n",
       "      <td>NaN</td>\n",
       "      <td>NaN</td>\n",
       "      <td>NaN</td>\n",
       "      <td>NaN</td>\n",
       "      <td>NaN</td>\n",
       "      <td>NaN</td>\n",
       "      <td>NaN</td>\n",
       "      <td>NaN</td>\n",
       "    </tr>\n",
       "    <tr>\n",
       "      <th>6</th>\n",
       "      <td>829 Folsom St UNIT 906, San Francisco, CA</td>\n",
       "      <td>NaN</td>\n",
       "      <td>NaN</td>\n",
       "      <td>NaN</td>\n",
       "      <td>NaN</td>\n",
       "      <td>NaN</td>\n",
       "      <td>NaN</td>\n",
       "      <td>NaN</td>\n",
       "      <td>NaN</td>\n",
       "    </tr>\n",
       "  </tbody>\n",
       "</table>\n",
       "</div>"
      ],
      "text/plain": [
       "                                     Address DateOfSale  SalePrice  IsAStudio  \\\n",
       "0           1 Mono St # B, San Francisco, CA   11/20/15        1.1        0.0   \n",
       "1      150 Grand View Ave, San Francisco, CA        NaN        NaN        NaN   \n",
       "2         1915 Diamond St, San Francisco, CA        NaN        NaN        NaN   \n",
       "3    1954 Golden Gate Ave, San Francisco, CA        NaN        NaN        NaN   \n",
       "4  2299 Market St APT 502, San Francisco, CA        NaN        NaN        NaN   \n",
       "5           643 Natoma St, San Francisco, CA        NaN        NaN        NaN   \n",
       "6  829 Folsom St UNIT 906, San Francisco, CA        NaN        NaN        NaN   \n",
       "\n",
       "   Beds  Baths    Size  LotSize  BuiltInYear  \n",
       "0   2.0    1.0  1000.0   2495.0       1900.0  \n",
       "1   NaN    NaN     NaN      NaN          NaN  \n",
       "2   NaN    NaN     NaN      NaN          NaN  \n",
       "3   NaN    NaN     NaN      NaN          NaN  \n",
       "4   NaN    NaN     NaN      NaN          NaN  \n",
       "5   NaN    NaN     NaN      NaN          NaN  \n",
       "6   NaN    NaN     NaN      NaN          NaN  "
      ]
     },
     "execution_count": 68,
     "metadata": {},
     "output_type": "execute_result"
    }
   ],
   "source": [
    "df.mode()"
   ]
  },
  {
   "cell_type": "code",
   "execution_count": 69,
   "metadata": {
    "collapsed": false
   },
   "outputs": [
    {
     "data": {
      "text/plain": [
       "0             1 Mono St # B, San Francisco, CA\n",
       "1        150 Grand View Ave, San Francisco, CA\n",
       "2           1915 Diamond St, San Francisco, CA\n",
       "3      1954 Golden Gate Ave, San Francisco, CA\n",
       "4    2299 Market St APT 502, San Francisco, CA\n",
       "5             643 Natoma St, San Francisco, CA\n",
       "6    829 Folsom St UNIT 906, San Francisco, CA\n",
       "dtype: object"
      ]
     },
     "execution_count": 69,
     "metadata": {},
     "output_type": "execute_result"
    }
   ],
   "source": [
    "df.Address.mode()"
   ]
  },
  {
   "cell_type": "code",
   "execution_count": 70,
   "metadata": {
    "collapsed": false
   },
   "outputs": [
    {
     "data": {
      "text/plain": [
       "0    1.0\n",
       "dtype: float64"
      ]
     },
     "execution_count": 70,
     "metadata": {},
     "output_type": "execute_result"
    }
   ],
   "source": [
    "df.Baths.mode()"
   ]
  },
  {
   "cell_type": "markdown",
   "metadata": {},
   "source": [
    "The `.mode()` method gets the mode(s) of each element along the columns.  Empty if nothing has 2+ occurrences. Adds a row for each mode per label, fills in gaps with `NaN`.  Note that there could be multiple values returned in the columns (when more than one value share the maximum frequency), which is the reason why a dataframe is returned."
   ]
  },
  {
   "cell_type": "markdown",
   "metadata": {},
   "source": [
    "## Part G"
   ]
  },
  {
   "cell_type": "markdown",
   "metadata": {
    "collapsed": true
   },
   "source": [
    "- `.corr()`\n",
    "  - (http://pandas.pydata.org/pandas-docs/stable/generated/pandas.DataFrame.corr.html)\n",
    "  - (http://pandas.pydata.org/pandas-docs/stable/generated/pandas.Series.corr.html)\n",
    "- Heatmaps\n",
    "  - (http://matplotlib.org/api/pyplot_api.html#matplotlib.pyplot.matshow)\n",
    "- Scatter plots\n",
    "  - (http://pandas.pydata.org/pandas-docs/stable/visualization.html#scatter-plot)\n",
    "  - (http://pandas.pydata.org/pandas-docs/stable/generated/pandas.DataFrame.plot.html) with `kind = 'scatter'`\n",
    "  - (http://pandas.pydata.org/pandas-docs/stable/generated/pandas.Series.plot.html) with `kind = 'scatter'`\n",
    "  - (http://pandas.pydata.org/pandas-docs/stable/generated/pandas.DataFrame.plot.scatter.html)\n",
    "- Scatter matrices\n",
    "  - (http://pandas.pydata.org/pandas-docs/stable/visualization.html#scatter-matrix-plot)"
   ]
  },
  {
   "cell_type": "code",
   "execution_count": 71,
   "metadata": {
    "collapsed": false
   },
   "outputs": [
    {
     "data": {
      "text/html": [
       "<div>\n",
       "<table border=\"1\" class=\"dataframe\">\n",
       "  <thead>\n",
       "    <tr style=\"text-align: right;\">\n",
       "      <th></th>\n",
       "      <th>SalePrice</th>\n",
       "      <th>IsAStudio</th>\n",
       "      <th>Beds</th>\n",
       "      <th>Baths</th>\n",
       "      <th>Size</th>\n",
       "      <th>LotSize</th>\n",
       "      <th>BuiltInYear</th>\n",
       "    </tr>\n",
       "  </thead>\n",
       "  <tbody>\n",
       "    <tr>\n",
       "      <th>SalePrice</th>\n",
       "      <td>1.000000</td>\n",
       "      <td>0.008889</td>\n",
       "      <td>0.379453</td>\n",
       "      <td>0.369938</td>\n",
       "      <td>0.485379</td>\n",
       "      <td>0.392418</td>\n",
       "      <td>-0.148598</td>\n",
       "    </tr>\n",
       "    <tr>\n",
       "      <th>IsAStudio</th>\n",
       "      <td>0.008889</td>\n",
       "      <td>1.000000</td>\n",
       "      <td>NaN</td>\n",
       "      <td>-0.078195</td>\n",
       "      <td>0.052166</td>\n",
       "      <td>-0.012622</td>\n",
       "      <td>-0.050258</td>\n",
       "    </tr>\n",
       "    <tr>\n",
       "      <th>Beds</th>\n",
       "      <td>0.379453</td>\n",
       "      <td>NaN</td>\n",
       "      <td>1.000000</td>\n",
       "      <td>0.715194</td>\n",
       "      <td>0.722656</td>\n",
       "      <td>0.070542</td>\n",
       "      <td>-0.344700</td>\n",
       "    </tr>\n",
       "    <tr>\n",
       "      <th>Baths</th>\n",
       "      <td>0.369938</td>\n",
       "      <td>-0.078195</td>\n",
       "      <td>0.715194</td>\n",
       "      <td>1.000000</td>\n",
       "      <td>0.692501</td>\n",
       "      <td>0.108556</td>\n",
       "      <td>-0.078157</td>\n",
       "    </tr>\n",
       "    <tr>\n",
       "      <th>Size</th>\n",
       "      <td>0.485379</td>\n",
       "      <td>0.052166</td>\n",
       "      <td>0.722656</td>\n",
       "      <td>0.692501</td>\n",
       "      <td>1.000000</td>\n",
       "      <td>0.201979</td>\n",
       "      <td>-0.313989</td>\n",
       "    </tr>\n",
       "    <tr>\n",
       "      <th>LotSize</th>\n",
       "      <td>0.392418</td>\n",
       "      <td>-0.012622</td>\n",
       "      <td>0.070542</td>\n",
       "      <td>0.108556</td>\n",
       "      <td>0.201979</td>\n",
       "      <td>1.000000</td>\n",
       "      <td>0.046411</td>\n",
       "    </tr>\n",
       "    <tr>\n",
       "      <th>BuiltInYear</th>\n",
       "      <td>-0.148598</td>\n",
       "      <td>-0.050258</td>\n",
       "      <td>-0.344700</td>\n",
       "      <td>-0.078157</td>\n",
       "      <td>-0.313989</td>\n",
       "      <td>0.046411</td>\n",
       "      <td>1.000000</td>\n",
       "    </tr>\n",
       "  </tbody>\n",
       "</table>\n",
       "</div>"
      ],
      "text/plain": [
       "             SalePrice  IsAStudio      Beds     Baths      Size   LotSize  \\\n",
       "SalePrice     1.000000   0.008889  0.379453  0.369938  0.485379  0.392418   \n",
       "IsAStudio     0.008889   1.000000       NaN -0.078195  0.052166 -0.012622   \n",
       "Beds          0.379453        NaN  1.000000  0.715194  0.722656  0.070542   \n",
       "Baths         0.369938  -0.078195  0.715194  1.000000  0.692501  0.108556   \n",
       "Size          0.485379   0.052166  0.722656  0.692501  1.000000  0.201979   \n",
       "LotSize       0.392418  -0.012622  0.070542  0.108556  0.201979  1.000000   \n",
       "BuiltInYear  -0.148598  -0.050258 -0.344700 -0.078157 -0.313989  0.046411   \n",
       "\n",
       "             BuiltInYear  \n",
       "SalePrice      -0.148598  \n",
       "IsAStudio      -0.050258  \n",
       "Beds           -0.344700  \n",
       "Baths          -0.078157  \n",
       "Size           -0.313989  \n",
       "LotSize         0.046411  \n",
       "BuiltInYear     1.000000  "
      ]
     },
     "execution_count": 71,
     "metadata": {},
     "output_type": "execute_result"
    }
   ],
   "source": [
    "df.corr()"
   ]
  },
  {
   "cell_type": "code",
   "execution_count": 72,
   "metadata": {
    "collapsed": false
   },
   "outputs": [
    {
     "data": {
      "text/plain": [
       "0.7151938843208987"
      ]
     },
     "execution_count": 72,
     "metadata": {},
     "output_type": "execute_result"
    }
   ],
   "source": [
    "df.Beds.corr(df.Baths)"
   ]
  },
  {
   "cell_type": "markdown",
   "metadata": {},
   "source": [
    "### Heatmaps"
   ]
  },
  {
   "cell_type": "code",
   "execution_count": 73,
   "metadata": {
    "collapsed": false
   },
   "outputs": [
    {
     "data": {
      "text/html": [
       "<div>\n",
       "<table border=\"1\" class=\"dataframe\">\n",
       "  <thead>\n",
       "    <tr style=\"text-align: right;\">\n",
       "      <th></th>\n",
       "      <th>SalePrice</th>\n",
       "      <th>IsAStudio</th>\n",
       "      <th>Beds</th>\n",
       "      <th>Baths</th>\n",
       "      <th>Size</th>\n",
       "      <th>LotSize</th>\n",
       "      <th>BuiltInYear</th>\n",
       "    </tr>\n",
       "  </thead>\n",
       "  <tbody>\n",
       "    <tr>\n",
       "      <th>SalePrice</th>\n",
       "      <td>1.000000</td>\n",
       "      <td>0.008889</td>\n",
       "      <td>0.379453</td>\n",
       "      <td>0.369938</td>\n",
       "      <td>0.485379</td>\n",
       "      <td>0.392418</td>\n",
       "      <td>-0.148598</td>\n",
       "    </tr>\n",
       "    <tr>\n",
       "      <th>IsAStudio</th>\n",
       "      <td>0.008889</td>\n",
       "      <td>1.000000</td>\n",
       "      <td>NaN</td>\n",
       "      <td>-0.078195</td>\n",
       "      <td>0.052166</td>\n",
       "      <td>-0.012622</td>\n",
       "      <td>-0.050258</td>\n",
       "    </tr>\n",
       "    <tr>\n",
       "      <th>Beds</th>\n",
       "      <td>0.379453</td>\n",
       "      <td>NaN</td>\n",
       "      <td>1.000000</td>\n",
       "      <td>0.715194</td>\n",
       "      <td>0.722656</td>\n",
       "      <td>0.070542</td>\n",
       "      <td>-0.344700</td>\n",
       "    </tr>\n",
       "    <tr>\n",
       "      <th>Baths</th>\n",
       "      <td>0.369938</td>\n",
       "      <td>-0.078195</td>\n",
       "      <td>0.715194</td>\n",
       "      <td>1.000000</td>\n",
       "      <td>0.692501</td>\n",
       "      <td>0.108556</td>\n",
       "      <td>-0.078157</td>\n",
       "    </tr>\n",
       "    <tr>\n",
       "      <th>Size</th>\n",
       "      <td>0.485379</td>\n",
       "      <td>0.052166</td>\n",
       "      <td>0.722656</td>\n",
       "      <td>0.692501</td>\n",
       "      <td>1.000000</td>\n",
       "      <td>0.201979</td>\n",
       "      <td>-0.313989</td>\n",
       "    </tr>\n",
       "    <tr>\n",
       "      <th>LotSize</th>\n",
       "      <td>0.392418</td>\n",
       "      <td>-0.012622</td>\n",
       "      <td>0.070542</td>\n",
       "      <td>0.108556</td>\n",
       "      <td>0.201979</td>\n",
       "      <td>1.000000</td>\n",
       "      <td>0.046411</td>\n",
       "    </tr>\n",
       "    <tr>\n",
       "      <th>BuiltInYear</th>\n",
       "      <td>-0.148598</td>\n",
       "      <td>-0.050258</td>\n",
       "      <td>-0.344700</td>\n",
       "      <td>-0.078157</td>\n",
       "      <td>-0.313989</td>\n",
       "      <td>0.046411</td>\n",
       "      <td>1.000000</td>\n",
       "    </tr>\n",
       "  </tbody>\n",
       "</table>\n",
       "</div>"
      ],
      "text/plain": [
       "             SalePrice  IsAStudio      Beds     Baths      Size   LotSize  \\\n",
       "SalePrice     1.000000   0.008889  0.379453  0.369938  0.485379  0.392418   \n",
       "IsAStudio     0.008889   1.000000       NaN -0.078195  0.052166 -0.012622   \n",
       "Beds          0.379453        NaN  1.000000  0.715194  0.722656  0.070542   \n",
       "Baths         0.369938  -0.078195  0.715194  1.000000  0.692501  0.108556   \n",
       "Size          0.485379   0.052166  0.722656  0.692501  1.000000  0.201979   \n",
       "LotSize       0.392418  -0.012622  0.070542  0.108556  0.201979  1.000000   \n",
       "BuiltInYear  -0.148598  -0.050258 -0.344700 -0.078157 -0.313989  0.046411   \n",
       "\n",
       "             BuiltInYear  \n",
       "SalePrice      -0.148598  \n",
       "IsAStudio      -0.050258  \n",
       "Beds           -0.344700  \n",
       "Baths          -0.078157  \n",
       "Size           -0.313989  \n",
       "LotSize         0.046411  \n",
       "BuiltInYear     1.000000  "
      ]
     },
     "execution_count": 73,
     "metadata": {},
     "output_type": "execute_result"
    }
   ],
   "source": [
    "corr = df.corr()\n",
    "\n",
    "corr"
   ]
  },
  {
   "cell_type": "code",
   "execution_count": null,
   "metadata": {
    "collapsed": true
   },
   "outputs": [],
   "source": [
    "# TODO"
   ]
  },
  {
   "cell_type": "markdown",
   "metadata": {},
   "source": [
    "Let's pretty this up using the seaborn package."
   ]
  },
  {
   "cell_type": "code",
   "execution_count": 74,
   "metadata": {
    "collapsed": false
   },
   "outputs": [
    {
     "data": {
      "text/plain": [
       "<matplotlib.axes._subplots.AxesSubplot at 0x1116918d0>"
      ]
     },
     "execution_count": 74,
     "metadata": {},
     "output_type": "execute_result"
    },
    {
     "data": {
      "image/png": "[encoded data removed]",
      "text/plain": [
       "<matplotlib.figure.Figure at 0x11192bb10>"
      ]
     },
     "metadata": {},
     "output_type": "display_data"
    }
   ],
   "source": [
    "sns.heatmap(corr)"
   ]
  },
  {
   "cell_type": "markdown",
   "metadata": {},
   "source": [
    "### Scatter plots"
   ]
  },
  {
   "cell_type": "code",
   "execution_count": 75,
   "metadata": {
    "collapsed": false
   },
   "outputs": [
    {
     "data": {
      "text/plain": [
       "<matplotlib.axes._subplots.AxesSubplot at 0x111d67bd0>"
      ]
     },
     "execution_count": 75,
     "metadata": {},
     "output_type": "execute_result"
    },
    {
     "data": {
      "image/png": "[encoded data removed]",
      "text/plain": [
       "<matplotlib.figure.Figure at 0x11220a690>"
      ]
     },
     "metadata": {},
     "output_type": "display_data"
    }
   ],
   "source": [
    "df.plot(kind = 'scatter', x = 'Beds', y = 'Baths', s = 100, figsize = (8, 8))"
   ]
  },
  {
   "cell_type": "code",
   "execution_count": 76,
   "metadata": {
    "collapsed": false
   },
   "outputs": [
    {
     "data": {
      "text/plain": [
       "<matplotlib.axes._subplots.AxesSubplot at 0x1122e0590>"
      ]
     },
     "execution_count": 76,
     "metadata": {},
     "output_type": "execute_result"
    },
    {
     "data": {
      "image/png": "[encoded data removed]",
      "text/plain": [
       "<matplotlib.figure.Figure at 0x1122f5050>"
      ]
     },
     "metadata": {},
     "output_type": "display_data"
    }
   ],
   "source": [
    "df.plot.scatter(x = 'Beds', y = 'Baths', s = 100, figsize = (8, 8))"
   ]
  },
  {
   "cell_type": "markdown",
   "metadata": {},
   "source": [
    "### Pair scatterplots with Seaborn"
   ]
  },
  {
   "cell_type": "code",
   "execution_count": 77,
   "metadata": {
    "collapsed": false
   },
   "outputs": [
    {
     "data": {
      "text/plain": [
       "<seaborn.axisgrid.PairGrid at 0x1124aae50>"
      ]
     },
     "execution_count": 77,
     "metadata": {},
     "output_type": "execute_result"
    },
    {
     "data": {
      "image/png": "[encoded data removed]",
      "text/plain": [
       "<matplotlib.figure.Figure at 0x1124adc90>"
      ]
     },
     "metadata": {},
     "output_type": "display_data"
    }
   ],
   "source": [
    "sns.pairplot(df[['Beds', 'Baths']].dropna())"
   ]
  },
  {
   "cell_type": "code",
   "execution_count": 78,
   "metadata": {
    "collapsed": false
   },
   "outputs": [
    {
     "data": {
      "text/plain": [
       "<seaborn.axisgrid.PairGrid at 0x1129800d0>"
      ]
     },
     "execution_count": 78,
     "metadata": {},
     "output_type": "execute_result"
    },
    {
     "data": {
      "image/png": "[encoded data removed]",
      "text/plain": [
       "<matplotlib.figure.Figure at 0x112976a50>"
      ]
     },
     "metadata": {},
     "output_type": "display_data"
    }
   ],
   "source": [
    "sns.pairplot(df[['SalePrice', 'Size']].dropna())"
   ]
  },
  {
   "cell_type": "code",
   "execution_count": 81,
   "metadata": {
    "collapsed": false
   },
   "outputs": [
    {
     "data": {
      "text/plain": [
       "<seaborn.axisgrid.PairGrid at 0x112e75710>"
      ]
     },
     "execution_count": 81,
     "metadata": {},
     "output_type": "execute_result"
    },
    {
     "data": {
      "image/png": "[encoded data removed]",
      "text/plain": [
       "<matplotlib.figure.Figure at 0x118a86750>"
      ]
     },
     "metadata": {},
     "output_type": "display_data"
    }
   ],
   "source": [
    "sns.pairplot(df.dropna())"
   ]
  },
  {
   "cell_type": "markdown",
   "metadata": {},
   "source": [
    "### <font color=\"blue\">Check</font> - why are plots along the diagonal not scatters?"
   ]
  },
  {
   "cell_type": "markdown",
   "metadata": {},
   "source": [
    "## Part H"
   ]
  },
  {
   "cell_type": "markdown",
   "metadata": {},
   "source": [
    "- `.value_counts()`\n",
    "  - (http://pandas.pydata.org/pandas-docs/stable/generated/pandas.Series.value_counts.html)\n",
    "- `.crosstab()`\n",
    "  - (http://pandas.pydata.org/pandas-docs/stable/generated/pandas.crosstab.html)"
   ]
  },
  {
   "cell_type": "markdown",
   "metadata": {},
   "source": [
    "> #### Activity: Reproduce the `Beds` histogram above.  For each possible number of beds, how many properties share that bed count?"
   ]
  },
  {
   "cell_type": "code",
   "execution_count": 113,
   "metadata": {
    "collapsed": false
   },
   "outputs": [
    {
     "data": {
      "text/plain": [
       "2.0    316\n",
       "3.0    226\n",
       "1.0    142\n",
       "4.0    103\n",
       "5.0     28\n",
       "6.0      9\n",
       "7.0      6\n",
       "9.0      3\n",
       "8.0      3\n",
       "Name: Beds, dtype: int64"
      ]
     },
     "execution_count": 113,
     "metadata": {},
     "output_type": "execute_result"
    },
    {
     "data": {
      "image/png": "[encoded data removed]",
      "text/plain": [
       "<matplotlib.figure.Figure at 0x11b75e750>"
      ]
     },
     "metadata": {},
     "output_type": "display_data"
    }
   ],
   "source": [
    "# TODO\n",
    "df[['Beds']].hist(figsize = (8,8))\n",
    "df[\"Beds\"].value_counts()"
   ]
  },
  {
   "cell_type": "markdown",
   "metadata": {},
   "source": [
    "> Careful on checking for `NaN` values!"
   ]
  },
  {
   "cell_type": "code",
   "execution_count": null,
   "metadata": {
    "collapsed": true
   },
   "outputs": [],
   "source": [
    "# TODO"
   ]
  },
  {
   "cell_type": "markdown",
   "metadata": {},
   "source": [
    "> #### Activity: Create a frequency table for `Baths` over `Beds`"
   ]
  },
  {
   "cell_type": "code",
   "execution_count": null,
   "metadata": {
    "collapsed": true
   },
   "outputs": [],
   "source": [
    "# TODO"
   ]
  },
  {
   "cell_type": "markdown",
   "metadata": {},
   "source": [
    "> #### Activity: Create a frequency table for `Beds` and `Baths` (together) over the century the houses were built"
   ]
  },
  {
   "cell_type": "code",
   "execution_count": null,
   "metadata": {
    "collapsed": true
   },
   "outputs": [],
   "source": [
    "# TODO"
   ]
  }
 ],
 "metadata": {
  "kernelspec": {
   "display_name": "Python 2",
   "language": "python",
   "name": "python2"
  },
  "language_info": {
   "codemirror_mode": {
    "name": "ipython",
    "version": 2
   },
   "file_extension": ".py",
   "mimetype": "text/x-python",
   "name": "python",
   "nbconvert_exporter": "python",
   "pygments_lexer": "ipython2",
   "version": "2.7.13"
  }
 },
 "nbformat": 4,
 "nbformat_minor": 1
}

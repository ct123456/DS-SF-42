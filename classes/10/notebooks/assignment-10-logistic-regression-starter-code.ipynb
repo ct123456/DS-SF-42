{
 "cells": [
  {
   "cell_type": "markdown",
   "metadata": {},
   "source": [
    "# DS-SF-34 | 11 | Logistic Regression | Assignment | Starter Code"
   ]
  },
  {
   "cell_type": "code",
   "execution_count": 15,
   "metadata": {
    "collapsed": false
   },
   "outputs": [
    {
     "name": "stderr",
     "output_type": "stream",
     "text": [
      "/Applications/anaconda/lib/python2.7/site-packages/sklearn/cross_validation.py:41: DeprecationWarning: This module was deprecated in version 0.18 in favor of the model_selection module into which all the refactored classes and functions are moved. Also note that the interface of the new CV iterators are different from that of this module. This module will be removed in 0.20.\n",
      "  \"This module will be removed in 0.20.\", DeprecationWarning)\n"
     ]
    }
   ],
   "source": [
    "import os\n",
    "\n",
    "import numpy as np\n",
    "import pandas as pd\n",
    "pd.set_option('display.max_rows', 10)\n",
    "pd.set_option('display.notebook_repr_html', True)\n",
    "pd.set_option('display.max_columns', 10)\n",
    "\n",
    "from sklearn import linear_model, cross_validation\n",
    "\n",
    "import matplotlib.pyplot as plt\n",
    "%matplotlib inline\n",
    "plt.style.use('ggplot')"
   ]
  },
  {
   "cell_type": "markdown",
   "metadata": {},
   "source": [
    "## Probability, Odds, and Odds Ratios"
   ]
  },
  {
   "cell_type": "markdown",
   "metadata": {},
   "source": [
    "**Probability:** The number of ways that an event can occur divided by the total number of possible outcomes.\n",
    "\n",
    "The probability of drawing a red card from a standard deck of cards is 26/52 (50 percent).\n",
    "The probability of drawing a club from that deck is 13/52 (25 percent)."
   ]
  },
  {
   "cell_type": "markdown",
   "metadata": {},
   "source": [
    "> ### Question 1.  What's the probability of getting heads in a fair coin flip?"
   ]
  },
  {
   "cell_type": "code",
   "execution_count": 3,
   "metadata": {
    "collapsed": false
   },
   "outputs": [],
   "source": [
    "# TODO\n",
    "# probability = 0.5"
   ]
  },
  {
   "cell_type": "markdown",
   "metadata": {},
   "source": [
    "The odds for an event is the ratio of the number of ways the event can occur compared to the number of ways it does not occur.\n",
    "\n",
    "For example, using the same events as above, the odds for:\n",
    "- Drawing a red card from a standard deck of cards is 1:1; and\n",
    "- Drawing a club from that deck is 1:3."
   ]
  },
  {
   "cell_type": "markdown",
   "metadata": {},
   "source": [
    "> ### Question 2.  What's the odds of a fair coin flip?"
   ]
  },
  {
   "cell_type": "code",
   "execution_count": 4,
   "metadata": {
    "collapsed": false
   },
   "outputs": [],
   "source": [
    "# TODO\n",
    "# odds = 1:1"
   ]
  },
  {
   "cell_type": "markdown",
   "metadata": {},
   "source": [
    "> ### Question 3.  Suppose that 18 out of 20 patients in an experiment lost weight while using diet A, while 16 out of 20  lost weight using diet B.  What's the probability of weight loss with diet A?  What's the odds?"
   ]
  },
  {
   "cell_type": "code",
   "execution_count": 11,
   "metadata": {
    "collapsed": false
   },
   "outputs": [
    {
     "name": "stdout",
     "output_type": "stream",
     "text": [
      "probabilty:  0.9\n",
      "odds:  9\n"
     ]
    }
   ],
   "source": [
    "# TODO\n",
    "print \"probabilty: \", 18./20\n",
    "print \"odds: \", 18./2\n"
   ]
  },
  {
   "cell_type": "markdown",
   "metadata": {},
   "source": [
    "> ### Question 4.  What's the probablity of weight loss with diet B?  What are the odds?"
   ]
  },
  {
   "cell_type": "code",
   "execution_count": 12,
   "metadata": {
    "collapsed": false
   },
   "outputs": [
    {
     "name": "stdout",
     "output_type": "stream",
     "text": [
      "probabilty:  0.8\n",
      "odds:  4.0\n"
     ]
    }
   ],
   "source": [
    "# TODO\n",
    "print \"probabilty: \", 16./20\n",
    "print \"odds: \", 16./4\n"
   ]
  },
  {
   "cell_type": "markdown",
   "metadata": {},
   "source": [
    "> ### Question 5.  What's the odds ratio?"
   ]
  },
  {
   "cell_type": "code",
   "execution_count": 13,
   "metadata": {
    "collapsed": false
   },
   "outputs": [
    {
     "name": "stdout",
     "output_type": "stream",
     "text": [
      "odds ratio 2.25\n"
     ]
    }
   ],
   "source": [
    "# TODO\n",
    "print \"odds ratio\", (18./2)/(16./4)"
   ]
  },
  {
   "cell_type": "markdown",
   "metadata": {},
   "source": [
    "## Bank Marketing"
   ]
  },
  {
   "cell_type": "code",
   "execution_count": 16,
   "metadata": {
    "collapsed": false
   },
   "outputs": [],
   "source": [
    "df = pd.read_csv(os.path.join('..', 'datasets', 'dataset-11-bank-marketing.csv'))"
   ]
  },
  {
   "cell_type": "code",
   "execution_count": 23,
   "metadata": {
    "collapsed": false
   },
   "outputs": [
    {
     "data": {
      "text/html": [
       "<div>\n",
       "<table border=\"1\" class=\"dataframe\">\n",
       "  <thead>\n",
       "    <tr style=\"text-align: right;\">\n",
       "      <th></th>\n",
       "      <th>age</th>\n",
       "      <th>job</th>\n",
       "      <th>marital</th>\n",
       "      <th>education</th>\n",
       "      <th>default</th>\n",
       "      <th>...</th>\n",
       "      <th>campaign</th>\n",
       "      <th>pdays</th>\n",
       "      <th>previous</th>\n",
       "      <th>poutcome</th>\n",
       "      <th>c</th>\n",
       "    </tr>\n",
       "  </thead>\n",
       "  <tbody>\n",
       "    <tr>\n",
       "      <th>0</th>\n",
       "      <td>30</td>\n",
       "      <td>unemployed</td>\n",
       "      <td>married</td>\n",
       "      <td>primary</td>\n",
       "      <td>no</td>\n",
       "      <td>...</td>\n",
       "      <td>1</td>\n",
       "      <td>-1</td>\n",
       "      <td>0</td>\n",
       "      <td>unknown</td>\n",
       "      <td>no</td>\n",
       "    </tr>\n",
       "    <tr>\n",
       "      <th>1</th>\n",
       "      <td>33</td>\n",
       "      <td>services</td>\n",
       "      <td>married</td>\n",
       "      <td>secondary</td>\n",
       "      <td>no</td>\n",
       "      <td>...</td>\n",
       "      <td>1</td>\n",
       "      <td>339</td>\n",
       "      <td>4</td>\n",
       "      <td>failure</td>\n",
       "      <td>no</td>\n",
       "    </tr>\n",
       "    <tr>\n",
       "      <th>2</th>\n",
       "      <td>35</td>\n",
       "      <td>management</td>\n",
       "      <td>single</td>\n",
       "      <td>tertiary</td>\n",
       "      <td>no</td>\n",
       "      <td>...</td>\n",
       "      <td>1</td>\n",
       "      <td>330</td>\n",
       "      <td>1</td>\n",
       "      <td>failure</td>\n",
       "      <td>no</td>\n",
       "    </tr>\n",
       "    <tr>\n",
       "      <th>3</th>\n",
       "      <td>30</td>\n",
       "      <td>management</td>\n",
       "      <td>married</td>\n",
       "      <td>tertiary</td>\n",
       "      <td>no</td>\n",
       "      <td>...</td>\n",
       "      <td>4</td>\n",
       "      <td>-1</td>\n",
       "      <td>0</td>\n",
       "      <td>unknown</td>\n",
       "      <td>no</td>\n",
       "    </tr>\n",
       "    <tr>\n",
       "      <th>4</th>\n",
       "      <td>59</td>\n",
       "      <td>blue-collar</td>\n",
       "      <td>married</td>\n",
       "      <td>secondary</td>\n",
       "      <td>no</td>\n",
       "      <td>...</td>\n",
       "      <td>1</td>\n",
       "      <td>-1</td>\n",
       "      <td>0</td>\n",
       "      <td>unknown</td>\n",
       "      <td>no</td>\n",
       "    </tr>\n",
       "  </tbody>\n",
       "</table>\n",
       "<p>5 rows × 17 columns</p>\n",
       "</div>"
      ],
      "text/plain": [
       "   age          job  marital  education default ...  campaign pdays previous  \\\n",
       "0   30   unemployed  married    primary      no ...         1    -1        0   \n",
       "1   33     services  married  secondary      no ...         1   339        4   \n",
       "2   35   management   single   tertiary      no ...         1   330        1   \n",
       "3   30   management  married   tertiary      no ...         4    -1        0   \n",
       "4   59  blue-collar  married  secondary      no ...         1    -1        0   \n",
       "\n",
       "  poutcome   c  \n",
       "0  unknown  no  \n",
       "1  failure  no  \n",
       "2  failure  no  \n",
       "3  unknown  no  \n",
       "4  unknown  no  \n",
       "\n",
       "[5 rows x 17 columns]"
      ]
     },
     "execution_count": 23,
     "metadata": {},
     "output_type": "execute_result"
    }
   ],
   "source": [
    "df.head()"
   ]
  },
  {
   "cell_type": "markdown",
   "metadata": {},
   "source": [
    "> The dataset is related to the direct marketing campaigns (by phone) of a Portuguese banking institution.  The classification goal is to predict if the client will subscribe a term deposit (variable y)."
   ]
  },
  {
   "cell_type": "markdown",
   "metadata": {},
   "source": [
    "Attributes Information:\n",
    "\n",
    "- Input variables:\n",
    "  - [Bank client data]\n",
    "    - `age` (numeric)\n",
    "    - `job`: type of job (categorical)\n",
    "    - `marital`: marital status (categorical)\n",
    "      - Note: `divorced` means divorced or widowed)\n",
    "    - `education` (categorical)\n",
    "    - `default`: has credit in default? (categorical)\n",
    "    - `balance`: bank account balance (\\$)\n",
    "    - `housing`: has housing loan? (categorical)\n",
    "    - `loan`: has personal loan? (categorical)\n",
    "  - [Data related with the last contact of the current campaign]\n",
    "    - `contact`: contact communication type (categorical)\n",
    "    - `month`: last contact month of year (categorical)\n",
    "    - `day_of_week`: last contact day of the week (categorical)\n",
    "    - `duration`: last contact duration, in seconds (numeric)\n",
    "      - Important note: this attribute highly affects the output target (e.g., if `duration = 0` then `y = 'no'`). Yet, the duration is not known before a call is performed.  Also, after the end of the call y is obviously known.  Thus, this input should only be included for benchmark purposes and should be discarded if the intention is to have a realistic predictive model.\n",
    "  - [Other attributes]\n",
    "    - `campaign`: number of contacts performed during this campaign and for this client (numeric)\n",
    "    - `pdays`: number of days that passed by after the client was last contacted from a previous campaign (numeric)\n",
    "      - 999 means client was not previously contacted\n",
    "    - `previous`: number of contacts performed before this campaign and for this client (numeric)\n",
    "    - `poutcome`: outcome of the previous marketing campaign (categorical)\n",
    "\n",
    "- Output variable (desired target):\n",
    "  - `y`: has the client subscribed a term deposit? (binary)"
   ]
  },
  {
   "cell_type": "markdown",
   "metadata": {},
   "source": [
    "> Our goal is to develop a model the best predicts the outcome `y`, the success of the marketing campaign."
   ]
  },
  {
   "cell_type": "markdown",
   "metadata": {},
   "source": [
    "> ## Question 6.  Remove the categorical variables with the most number of distinct values"
   ]
  },
  {
   "cell_type": "code",
   "execution_count": 51,
   "metadata": {
    "collapsed": false
   },
   "outputs": [
    {
     "name": "stdout",
     "output_type": "stream",
     "text": [
      "Index([u'age', u'job', u'marital', u'education', u'default', u'balance',\n",
      "       u'housing', u'loan', u'contact', u'day', u'month', u'duration',\n",
      "       u'campaign', u'pdays', u'previous', u'poutcome', u'c'],\n",
      "      dtype='object')\n",
      "default:  2\n",
      "housing:  2\n",
      "loan:  2\n",
      "contact:  3\n",
      "pdays:  292\n",
      "previous:  24\n",
      "poutcome:  4\n"
     ]
    },
    {
     "data": {
      "text/html": [
       "<div>\n",
       "<table border=\"1\" class=\"dataframe\">\n",
       "  <thead>\n",
       "    <tr style=\"text-align: right;\">\n",
       "      <th></th>\n",
       "      <th>age</th>\n",
       "      <th>marital</th>\n",
       "      <th>education</th>\n",
       "      <th>default</th>\n",
       "      <th>balance</th>\n",
       "      <th>...</th>\n",
       "      <th>campaign</th>\n",
       "      <th>pdays</th>\n",
       "      <th>previous</th>\n",
       "      <th>poutcome</th>\n",
       "      <th>c</th>\n",
       "    </tr>\n",
       "  </thead>\n",
       "  <tbody>\n",
       "    <tr>\n",
       "      <th>0</th>\n",
       "      <td>30</td>\n",
       "      <td>married</td>\n",
       "      <td>primary</td>\n",
       "      <td>no</td>\n",
       "      <td>1787</td>\n",
       "      <td>...</td>\n",
       "      <td>1</td>\n",
       "      <td>-1</td>\n",
       "      <td>0</td>\n",
       "      <td>unknown</td>\n",
       "      <td>no</td>\n",
       "    </tr>\n",
       "    <tr>\n",
       "      <th>1</th>\n",
       "      <td>33</td>\n",
       "      <td>married</td>\n",
       "      <td>secondary</td>\n",
       "      <td>no</td>\n",
       "      <td>4789</td>\n",
       "      <td>...</td>\n",
       "      <td>1</td>\n",
       "      <td>339</td>\n",
       "      <td>4</td>\n",
       "      <td>failure</td>\n",
       "      <td>no</td>\n",
       "    </tr>\n",
       "    <tr>\n",
       "      <th>2</th>\n",
       "      <td>35</td>\n",
       "      <td>single</td>\n",
       "      <td>tertiary</td>\n",
       "      <td>no</td>\n",
       "      <td>1350</td>\n",
       "      <td>...</td>\n",
       "      <td>1</td>\n",
       "      <td>330</td>\n",
       "      <td>1</td>\n",
       "      <td>failure</td>\n",
       "      <td>no</td>\n",
       "    </tr>\n",
       "    <tr>\n",
       "      <th>3</th>\n",
       "      <td>30</td>\n",
       "      <td>married</td>\n",
       "      <td>tertiary</td>\n",
       "      <td>no</td>\n",
       "      <td>1476</td>\n",
       "      <td>...</td>\n",
       "      <td>4</td>\n",
       "      <td>-1</td>\n",
       "      <td>0</td>\n",
       "      <td>unknown</td>\n",
       "      <td>no</td>\n",
       "    </tr>\n",
       "    <tr>\n",
       "      <th>4</th>\n",
       "      <td>59</td>\n",
       "      <td>married</td>\n",
       "      <td>secondary</td>\n",
       "      <td>no</td>\n",
       "      <td>0</td>\n",
       "      <td>...</td>\n",
       "      <td>1</td>\n",
       "      <td>-1</td>\n",
       "      <td>0</td>\n",
       "      <td>unknown</td>\n",
       "      <td>no</td>\n",
       "    </tr>\n",
       "  </tbody>\n",
       "</table>\n",
       "<p>5 rows × 16 columns</p>\n",
       "</div>"
      ],
      "text/plain": [
       "   age  marital  education default  balance ... campaign pdays previous  \\\n",
       "0   30  married    primary      no     1787 ...        1    -1        0   \n",
       "1   33  married  secondary      no     4789 ...        1   339        4   \n",
       "2   35   single   tertiary      no     1350 ...        1   330        1   \n",
       "3   30  married   tertiary      no     1476 ...        4    -1        0   \n",
       "4   59  married  secondary      no        0 ...        1    -1        0   \n",
       "\n",
       "   poutcome   c  \n",
       "0   unknown  no  \n",
       "1   failure  no  \n",
       "2   failure  no  \n",
       "3   unknown  no  \n",
       "4   unknown  no  \n",
       "\n",
       "[5 rows x 16 columns]"
      ]
     },
     "execution_count": 51,
     "metadata": {},
     "output_type": "execute_result"
    }
   ],
   "source": [
    "# TODO\n",
    "print df.columns\n",
    "#print \"age: \", len(df['age'].unique())\n",
    "#print \"job: \", len(df['job'].unique())\n",
    "#print \"marital: \", len(df['marital'].unique())\n",
    "#print \"education: \", len(df['education'].unique())\n",
    "print \"default: \", len(df['default'].unique())\n",
    "print \"housing: \", len(df['housing'].unique())\n",
    "print \"loan: \", len(df['loan'].unique())\n",
    "print \"contact: \", len(df['contact'].unique())\n",
    "print \"pdays: \", len(df['pdays'].unique())\n",
    "print \"previous: \", len(df['previous'].unique())\n",
    "print \"poutcome: \", len(df['poutcome'].unique())\n",
    "\n",
    "df_clean = df.drop(['job'], axis=1)\n",
    "df_clean.head()"
   ]
  },
  {
   "cell_type": "markdown",
   "metadata": {},
   "source": [
    "Answer: TODO"
   ]
  },
  {
   "cell_type": "markdown",
   "metadata": {},
   "source": [
    "> ## Question 7.  Recode all `yes`/`no` categorical variables with `0` as the most frequent value (then also append `\"_no\"` to the variable name), and `1` for the other (then leave the name unchanged)"
   ]
  },
  {
   "cell_type": "code",
   "execution_count": 71,
   "metadata": {
    "collapsed": false
   },
   "outputs": [
    {
     "data": {
      "text/html": [
       "<div>\n",
       "<table border=\"1\" class=\"dataframe\">\n",
       "  <thead>\n",
       "    <tr style=\"text-align: right;\">\n",
       "      <th></th>\n",
       "      <th>c_no</th>\n",
       "    </tr>\n",
       "  </thead>\n",
       "  <tbody>\n",
       "    <tr>\n",
       "      <th>0</th>\n",
       "      <td>0</td>\n",
       "    </tr>\n",
       "    <tr>\n",
       "      <th>1</th>\n",
       "      <td>0</td>\n",
       "    </tr>\n",
       "    <tr>\n",
       "      <th>2</th>\n",
       "      <td>0</td>\n",
       "    </tr>\n",
       "    <tr>\n",
       "      <th>3</th>\n",
       "      <td>0</td>\n",
       "    </tr>\n",
       "    <tr>\n",
       "      <th>4</th>\n",
       "      <td>0</td>\n",
       "    </tr>\n",
       "    <tr>\n",
       "      <th>...</th>\n",
       "      <td>...</td>\n",
       "    </tr>\n",
       "    <tr>\n",
       "      <th>4516</th>\n",
       "      <td>0</td>\n",
       "    </tr>\n",
       "    <tr>\n",
       "      <th>4517</th>\n",
       "      <td>0</td>\n",
       "    </tr>\n",
       "    <tr>\n",
       "      <th>4518</th>\n",
       "      <td>0</td>\n",
       "    </tr>\n",
       "    <tr>\n",
       "      <th>4519</th>\n",
       "      <td>0</td>\n",
       "    </tr>\n",
       "    <tr>\n",
       "      <th>4520</th>\n",
       "      <td>0</td>\n",
       "    </tr>\n",
       "  </tbody>\n",
       "</table>\n",
       "<p>4521 rows × 1 columns</p>\n",
       "</div>"
      ],
      "text/plain": [
       "      c_no\n",
       "0        0\n",
       "1        0\n",
       "2        0\n",
       "3        0\n",
       "4        0\n",
       "...    ...\n",
       "4516     0\n",
       "4517     0\n",
       "4518     0\n",
       "4519     0\n",
       "4520     0\n",
       "\n",
       "[4521 rows x 1 columns]"
      ]
     },
     "execution_count": 71,
     "metadata": {},
     "output_type": "execute_result"
    }
   ],
   "source": [
    "# TODO\n",
    "# default\n",
    "df_clean.default.value_counts()\n",
    "df_clean['default_no'] = df_clean.default.apply(lambda value: 0 if value=='no' else 1)\n",
    "\n",
    "#housing\n",
    "df_clean.housing.value_counts()\n",
    "df_clean['housing_yes'] = df_clean.housing.apply(lambda value: 0 if value=='yes' else 1)\n",
    "#df_clean[['housing_yes']]\n",
    "\n",
    "#loan\n",
    "df_clean.loan.value_counts()\n",
    "df_clean['loan_no'] = df_clean.loan.apply(lambda value: 0 if value=='no' else 1)\n",
    "#df_clean[['loan_no']]\n",
    "\n",
    "#c\n",
    "df_clean.c.value_counts()\n",
    "df_clean['c_no'] = df_clean.c.apply(lambda value: 0 if value=='no' else 1)\n",
    "df_clean[['c_no']]\n"
   ]
  },
  {
   "cell_type": "markdown",
   "metadata": {},
   "source": [
    "> ## Question 8.  Create binary/dummy variables for the other categorical variables"
   ]
  },
  {
   "cell_type": "code",
   "execution_count": 80,
   "metadata": {
    "collapsed": false
   },
   "outputs": [
    {
     "data": {
      "text/plain": [
       "Index([u'age', u'balance', u'day', u'duration', u'campaign', u'pdays',\n",
       "       u'previous', u'job_admin.', u'job_blue-collar', u'job_entrepreneur',\n",
       "       u'job_housemaid', u'job_management', u'job_retired',\n",
       "       u'job_self-employed', u'job_services', u'job_student',\n",
       "       u'job_technician', u'job_unemployed', u'job_unknown',\n",
       "       u'marital_divorced', u'marital_married', u'marital_single',\n",
       "       u'education_primary', u'education_secondary', u'education_tertiary',\n",
       "       u'education_unknown', u'default_no', u'default_yes', u'housing_no',\n",
       "       u'housing_yes', u'loan_no', u'loan_yes', u'contact_cellular',\n",
       "       u'contact_telephone', u'contact_unknown', u'month_apr', u'month_aug',\n",
       "       u'month_dec', u'month_feb', u'month_jan', u'month_jul', u'month_jun',\n",
       "       u'month_mar', u'month_may', u'month_nov', u'month_oct', u'month_sep',\n",
       "       u'poutcome_failure', u'poutcome_other', u'poutcome_success',\n",
       "       u'poutcome_unknown', u'c_no', u'c_yes'],\n",
       "      dtype='object')"
      ]
     },
     "execution_count": 80,
     "metadata": {},
     "output_type": "execute_result"
    }
   ],
   "source": [
    "# TODO\n",
    "df_dummies = pd.get_dummies(df)\n",
    "df_dummies.columns"
   ]
  },
  {
   "cell_type": "markdown",
   "metadata": {},
   "source": [
    "> ## Question 9.  What should be your baseline for these binary variables (namely, which binary variables should you not include in your model)?"
   ]
  },
  {
   "cell_type": "code",
   "execution_count": null,
   "metadata": {
    "collapsed": false
   },
   "outputs": [],
   "source": [
    "# TODO"
   ]
  },
  {
   "cell_type": "markdown",
   "metadata": {},
   "source": [
    "Answer: TODO"
   ]
  },
  {
   "cell_type": "markdown",
   "metadata": {},
   "source": [
    "> ## Question 10.  What input variable in the dataset seems to predict the outcome quite well.  Why?"
   ]
  },
  {
   "cell_type": "code",
   "execution_count": null,
   "metadata": {
    "collapsed": false
   },
   "outputs": [],
   "source": [
    "# TODO"
   ]
  },
  {
   "cell_type": "markdown",
   "metadata": {},
   "source": [
    "Answer: TODO"
   ]
  },
  {
   "cell_type": "markdown",
   "metadata": {},
   "source": [
    "> ## Question 11.  Split the dataset into a training set (60%) and a testing set (the rest)"
   ]
  },
  {
   "cell_type": "code",
   "execution_count": null,
   "metadata": {
    "collapsed": true
   },
   "outputs": [],
   "source": [
    "# TODO"
   ]
  },
  {
   "cell_type": "markdown",
   "metadata": {},
   "source": [
    "> ## Question 12.  Run a logistic regression with `age`, `marital` (the dummies), `default`, `balance`, `housing`, `loan`, `campaign`, `pdays`, `previous`?"
   ]
  },
  {
   "cell_type": "code",
   "execution_count": null,
   "metadata": {
    "collapsed": false
   },
   "outputs": [],
   "source": [
    "# TODO"
   ]
  },
  {
   "cell_type": "markdown",
   "metadata": {},
   "source": [
    "> ## Question 13.  What is your training error?  What is your generalization error?  Does it make sense?"
   ]
  },
  {
   "cell_type": "code",
   "execution_count": null,
   "metadata": {
    "collapsed": false
   },
   "outputs": [],
   "source": [
    "# TODO"
   ]
  },
  {
   "cell_type": "markdown",
   "metadata": {},
   "source": [
    "Answer: TODO"
   ]
  },
  {
   "cell_type": "markdown",
   "metadata": {},
   "source": [
    "> ## Question 14.  Interpret your coefficients. (At least `marital_single`, `campaign`, and `default`).  Does your interpretation  make sense?"
   ]
  },
  {
   "cell_type": "code",
   "execution_count": null,
   "metadata": {
    "collapsed": false
   },
   "outputs": [],
   "source": [
    "# TODO"
   ]
  },
  {
   "cell_type": "markdown",
   "metadata": {},
   "source": [
    "Answer: TODO"
   ]
  },
  {
   "cell_type": "markdown",
   "metadata": {},
   "source": [
    "> ## Question 15.  What is your prediction for a 30 years old single female, a homeowner with a \\$1,000 balance in the bank, without a loan, who has never been contacted before, and who has never defaulted"
   ]
  },
  {
   "cell_type": "code",
   "execution_count": null,
   "metadata": {
    "collapsed": false
   },
   "outputs": [],
   "source": [
    "# TODO"
   ]
  },
  {
   "cell_type": "markdown",
   "metadata": {},
   "source": [
    "Answer: TODO"
   ]
  }
 ],
 "metadata": {
  "kernelspec": {
   "display_name": "Python 2",
   "language": "python",
   "name": "python2"
  },
  "language_info": {
   "codemirror_mode": {
    "name": "ipython",
    "version": 2
   },
   "file_extension": ".py",
   "mimetype": "text/x-python",
   "name": "python",
   "nbconvert_exporter": "python",
   "pygments_lexer": "ipython2",
   "version": "2.7.13"
  }
 },
 "nbformat": 4,
 "nbformat_minor": 0
}

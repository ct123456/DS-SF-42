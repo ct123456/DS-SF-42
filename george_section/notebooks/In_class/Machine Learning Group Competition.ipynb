{
 "cells": [
  {
   "cell_type": "markdown",
   "metadata": {},
   "source": [
    "# The Machine Learning Group Challenge!"
   ]
  },
  {
   "cell_type": "markdown",
   "metadata": {},
   "source": [
    "##  Today's Mission\n",
    "- Your objective is to devise the best possible model to predict successful/default loans using a preprocessed version of the Lending Club loan dataset.\n",
    "\n",
    "- Class into divided into 4 groups.\n",
    "\n",
    "- The training data is 13689 loans labeled either as 1 (successful) or 0 (default). Comes with 30 categorical and numerical features. The testing data is also 13689 loans.\n",
    "\n",
    "- A data dictionary file is included as well. It is a table explaining each what each feature means.\n",
    "\n",
    "- Groups will judged on how much money their model makes. You will evaluate your model on the testing dataset. You cannot used testing data to train a model.\n",
    "\n",
    "- Your profit will be determined by the amount of money you make from correctly predicting good loans (loan amount * interest rate/100.) subtracted by the money you lose from incorrectly predicting bad loans as good (-loan amount). I have given a function to calculate that.\n",
    "\n",
    "- Finding the correct probability threshold will be super key in determing how much money you make.\n",
    "\n",
    "- **VERY IMPORTANT:** You must transform your testing the data the same way you did your training data. So make sure you have the same columns in the same order.\n",
    "        \n",
    "- Stewart and I will be on be hand for guidance. However I want you to primarily use your teammates for help. \n",
    "\n",
    "- Use all the tools at your disposal, try all the models we've learned in class. Refer to past class notebooks for help. Be sure to use modeling evaluating techniques such as ROC curves, confusion matrix, recall/precision, etc.\n",
    "\n",
    "- To optimize model, find the right combination of features and the right model with the right parameters. Get creative!\n",
    "\n",
    "- Remember to use your time wisely, it will go by fast. Communicate amongst yourselves often.\n",
    "   "
   ]
  },
  {
   "cell_type": "markdown",
   "metadata": {},
   "source": [
    "### Online resources on Lending Club loan data\n",
    "Kaggle Page: https://www.kaggle.com/wendykan/lending-club-loan-data. Make sure to check out the kernels section.\n",
    "\n",
    "Y Hat tutorial (It's in R, but its still useful): http://blog.yhat.com/posts/machine-learning-for-predicting-bad-loans.html\n",
    "\n",
    "Blog tutorial on the data from Kevin Davenport: http://kldavenport.com/lending-club-data-analysis-revisted-with-python/\n",
    "\n"
   ]
  },
  {
   "cell_type": "markdown",
   "metadata": {},
   "source": [
    "### Class Time\n",
    "No class breaks. But individual breaks are allowed of course.\n",
    "\n",
    "- 6:30 - 7:00\n",
    "    - Feature engineering/selection: make dummy variables, dropping features, scaling, and other methods of transforming data. \n",
    "    - Exploratory data analysis aka get to know your features time.\n",
    "    \n",
    "    \n",
    "- 7:00 - 8:45\n",
    "    - Modeling time!!\n",
    "    \n",
    "    \n",
    "- 8:45 - 9:25\n",
    "    - Model testing.\n",
    "    \n",
    "    \n",
    "- 9:25 - 9:30\n",
    "    - Winner decision. Exit tickets."
   ]
  },
  {
   "cell_type": "code",
   "execution_count": 1,
   "metadata": {
    "collapsed": true
   },
   "outputs": [],
   "source": [
    "#Imports and set pandas options\n",
    "import pandas as pd\n",
    "import numpy as np\n",
    "import matplotlib.pyplot as plt\n",
    "%matplotlib inline\n",
    "import seaborn as sb\n",
    "pd.set_option(\"max.columns\", 100)\n",
    "pd.set_option(\"max.colwidth\", 100)"
   ]
  },
  {
   "cell_type": "code",
   "execution_count": 2,
   "metadata": {
    "collapsed": false
   },
   "outputs": [
    {
     "data": {
      "text/html": [
       "<div>\n",
       "<table border=\"1\" class=\"dataframe\">\n",
       "  <thead>\n",
       "    <tr style=\"text-align: right;\">\n",
       "      <th></th>\n",
       "      <th>id</th>\n",
       "      <th>loan_amnt</th>\n",
       "      <th>funded_amnt</th>\n",
       "      <th>term</th>\n",
       "      <th>int_rate</th>\n",
       "      <th>installment</th>\n",
       "      <th>grade</th>\n",
       "      <th>emp_title</th>\n",
       "      <th>emp_length</th>\n",
       "      <th>home_ownership</th>\n",
       "      <th>annual_inc</th>\n",
       "      <th>verification_status</th>\n",
       "      <th>loan_status</th>\n",
       "      <th>desc</th>\n",
       "      <th>purpose</th>\n",
       "      <th>title</th>\n",
       "      <th>dti</th>\n",
       "      <th>delinq_2yrs</th>\n",
       "      <th>fico_range_low</th>\n",
       "      <th>fico_range_high</th>\n",
       "      <th>inq_last_6mths</th>\n",
       "      <th>open_acc</th>\n",
       "      <th>pub_rec</th>\n",
       "      <th>revol_bal</th>\n",
       "      <th>revol_util</th>\n",
       "      <th>total_acc</th>\n",
       "      <th>last_credit_pull_d</th>\n",
       "      <th>acc_now_delinq</th>\n",
       "      <th>delinq_amnt</th>\n",
       "      <th>tax_liens</th>\n",
       "    </tr>\n",
       "  </thead>\n",
       "  <tbody>\n",
       "    <tr>\n",
       "      <th>0</th>\n",
       "      <td>742238</td>\n",
       "      <td>3150.0</td>\n",
       "      <td>3150.0</td>\n",
       "      <td>36 months</td>\n",
       "      <td>10.99%</td>\n",
       "      <td>103.12</td>\n",
       "      <td>B</td>\n",
       "      <td>A-1 Casino Rd Mini Storage</td>\n",
       "      <td>9 years</td>\n",
       "      <td>RENT</td>\n",
       "      <td>15300.0</td>\n",
       "      <td>Verified</td>\n",
       "      <td>1</td>\n",
       "      <td>Borrower added on 05/02/11 &gt; I plan to use these funds to pay off a higher rate credit card.&lt;b...</td>\n",
       "      <td>debt_consolidation</td>\n",
       "      <td>lowerinterest</td>\n",
       "      <td>19.76</td>\n",
       "      <td>0.0</td>\n",
       "      <td>695.0</td>\n",
       "      <td>699.0</td>\n",
       "      <td>0.0</td>\n",
       "      <td>5.0</td>\n",
       "      <td>0.0</td>\n",
       "      <td>9316.0</td>\n",
       "      <td>76.4%</td>\n",
       "      <td>9.0</td>\n",
       "      <td>Feb-2014</td>\n",
       "      <td>0.0</td>\n",
       "      <td>0.0</td>\n",
       "      <td>0.0</td>\n",
       "    </tr>\n",
       "    <tr>\n",
       "      <th>1</th>\n",
       "      <td>567423</td>\n",
       "      <td>10000.0</td>\n",
       "      <td>10000.0</td>\n",
       "      <td>36 months</td>\n",
       "      <td>7.51%</td>\n",
       "      <td>311.11</td>\n",
       "      <td>A</td>\n",
       "      <td>ORION MECHANICAL INC.</td>\n",
       "      <td>4 years</td>\n",
       "      <td>OWN</td>\n",
       "      <td>125000.0</td>\n",
       "      <td>Not Verified</td>\n",
       "      <td>1</td>\n",
       "      <td>Borrower added on 08/19/10 &gt; CONSOLIDATE OUT STANDING CREDIT CARD LOANS AND PURCHASES FOR NEW ...</td>\n",
       "      <td>debt_consolidation</td>\n",
       "      <td>CONSOLIDATE</td>\n",
       "      <td>18.43</td>\n",
       "      <td>0.0</td>\n",
       "      <td>800.0</td>\n",
       "      <td>804.0</td>\n",
       "      <td>1.0</td>\n",
       "      <td>16.0</td>\n",
       "      <td>0.0</td>\n",
       "      <td>25364.0</td>\n",
       "      <td>2.9%</td>\n",
       "      <td>40.0</td>\n",
       "      <td>Feb-2017</td>\n",
       "      <td>0.0</td>\n",
       "      <td>0.0</td>\n",
       "      <td>0.0</td>\n",
       "    </tr>\n",
       "  </tbody>\n",
       "</table>\n",
       "</div>"
      ],
      "text/plain": [
       "       id  loan_amnt  funded_amnt        term int_rate  installment grade  \\\n",
       "0  742238     3150.0       3150.0   36 months   10.99%       103.12     B   \n",
       "1  567423    10000.0      10000.0   36 months    7.51%       311.11     A   \n",
       "\n",
       "                    emp_title emp_length home_ownership  annual_inc  \\\n",
       "0  A-1 Casino Rd Mini Storage    9 years           RENT     15300.0   \n",
       "1       ORION MECHANICAL INC.    4 years            OWN    125000.0   \n",
       "\n",
       "  verification_status  loan_status  \\\n",
       "0            Verified            1   \n",
       "1        Not Verified            1   \n",
       "\n",
       "                                                                                                  desc  \\\n",
       "0    Borrower added on 05/02/11 > I plan to use these funds to pay off a higher rate credit card.<b...   \n",
       "1    Borrower added on 08/19/10 > CONSOLIDATE OUT STANDING CREDIT CARD LOANS AND PURCHASES FOR NEW ...   \n",
       "\n",
       "              purpose          title    dti  delinq_2yrs  fico_range_low  \\\n",
       "0  debt_consolidation  lowerinterest  19.76          0.0           695.0   \n",
       "1  debt_consolidation    CONSOLIDATE  18.43          0.0           800.0   \n",
       "\n",
       "   fico_range_high  inq_last_6mths  open_acc  pub_rec  revol_bal revol_util  \\\n",
       "0            699.0             0.0       5.0      0.0     9316.0      76.4%   \n",
       "1            804.0             1.0      16.0      0.0    25364.0       2.9%   \n",
       "\n",
       "   total_acc last_credit_pull_d  acc_now_delinq  delinq_amnt  tax_liens  \n",
       "0        9.0           Feb-2014             0.0          0.0        0.0  \n",
       "1       40.0           Feb-2017             0.0          0.0        0.0  "
      ]
     },
     "execution_count": 2,
     "metadata": {},
     "output_type": "execute_result"
    }
   ],
   "source": [
    "# Load in training data.\n",
    "# Loan_status column is the target variable. Remember to drop it from df.\n",
    "train = pd.read_csv(\"../../data/lending_club/challenge_training_data.csv\")\n",
    "train.head(2)"
   ]
  },
  {
   "cell_type": "code",
   "execution_count": 12,
   "metadata": {
    "collapsed": false,
    "scrolled": true
   },
   "outputs": [
    {
     "name": "stdout",
     "output_type": "stream",
     "text": [
      "0.792168894733\n"
     ]
    },
    {
     "data": {
      "text/html": [
       "<div>\n",
       "<table border=\"1\" class=\"dataframe\">\n",
       "  <thead>\n",
       "    <tr style=\"text-align: right;\">\n",
       "      <th></th>\n",
       "      <th>id</th>\n",
       "      <th>loan_amnt</th>\n",
       "      <th>funded_amnt</th>\n",
       "      <th>installment</th>\n",
       "      <th>annual_inc</th>\n",
       "      <th>loan_status</th>\n",
       "      <th>dti</th>\n",
       "      <th>delinq_2yrs</th>\n",
       "      <th>fico_range_low</th>\n",
       "      <th>fico_range_high</th>\n",
       "      <th>inq_last_6mths</th>\n",
       "      <th>open_acc</th>\n",
       "      <th>pub_rec</th>\n",
       "      <th>revol_bal</th>\n",
       "      <th>total_acc</th>\n",
       "      <th>acc_now_delinq</th>\n",
       "      <th>delinq_amnt</th>\n",
       "      <th>tax_liens</th>\n",
       "    </tr>\n",
       "  </thead>\n",
       "  <tbody>\n",
       "    <tr>\n",
       "      <th>count</th>\n",
       "      <td>1.368900e+04</td>\n",
       "      <td>13689.000000</td>\n",
       "      <td>13689.000000</td>\n",
       "      <td>13689.000000</td>\n",
       "      <td>1.368900e+04</td>\n",
       "      <td>13689.000000</td>\n",
       "      <td>13689.000000</td>\n",
       "      <td>13689.000000</td>\n",
       "      <td>13689.000000</td>\n",
       "      <td>13689.000000</td>\n",
       "      <td>13689.000000</td>\n",
       "      <td>13689.000000</td>\n",
       "      <td>13689.00000</td>\n",
       "      <td>13689.000000</td>\n",
       "      <td>13689.000000</td>\n",
       "      <td>13689.0</td>\n",
       "      <td>13689.0</td>\n",
       "      <td>13689.000000</td>\n",
       "    </tr>\n",
       "    <tr>\n",
       "      <th>mean</th>\n",
       "      <td>6.233684e+05</td>\n",
       "      <td>11364.750895</td>\n",
       "      <td>11085.603404</td>\n",
       "      <td>332.900659</td>\n",
       "      <td>6.979179e+04</td>\n",
       "      <td>0.792169</td>\n",
       "      <td>13.489158</td>\n",
       "      <td>0.151143</td>\n",
       "      <td>712.332530</td>\n",
       "      <td>716.332530</td>\n",
       "      <td>1.154869</td>\n",
       "      <td>9.478267</td>\n",
       "      <td>0.05793</td>\n",
       "      <td>14934.617357</td>\n",
       "      <td>22.224706</td>\n",
       "      <td>0.0</td>\n",
       "      <td>0.0</td>\n",
       "      <td>0.000073</td>\n",
       "    </tr>\n",
       "    <tr>\n",
       "      <th>std</th>\n",
       "      <td>2.224602e+05</td>\n",
       "      <td>7259.133486</td>\n",
       "      <td>7011.722526</td>\n",
       "      <td>207.102750</td>\n",
       "      <td>5.787344e+04</td>\n",
       "      <td>0.405770</td>\n",
       "      <td>6.743814</td>\n",
       "      <td>0.499875</td>\n",
       "      <td>35.851729</td>\n",
       "      <td>35.851729</td>\n",
       "      <td>1.657204</td>\n",
       "      <td>4.491987</td>\n",
       "      <td>0.24342</td>\n",
       "      <td>22599.094015</td>\n",
       "      <td>11.556404</td>\n",
       "      <td>0.0</td>\n",
       "      <td>0.0</td>\n",
       "      <td>0.008547</td>\n",
       "    </tr>\n",
       "    <tr>\n",
       "      <th>min</th>\n",
       "      <td>5.574200e+04</td>\n",
       "      <td>500.000000</td>\n",
       "      <td>500.000000</td>\n",
       "      <td>15.760000</td>\n",
       "      <td>3.600000e+03</td>\n",
       "      <td>0.000000</td>\n",
       "      <td>0.000000</td>\n",
       "      <td>0.000000</td>\n",
       "      <td>610.000000</td>\n",
       "      <td>614.000000</td>\n",
       "      <td>0.000000</td>\n",
       "      <td>1.000000</td>\n",
       "      <td>0.00000</td>\n",
       "      <td>0.000000</td>\n",
       "      <td>1.000000</td>\n",
       "      <td>0.0</td>\n",
       "      <td>0.0</td>\n",
       "      <td>0.000000</td>\n",
       "    </tr>\n",
       "    <tr>\n",
       "      <th>25%</th>\n",
       "      <td>4.537700e+05</td>\n",
       "      <td>6000.000000</td>\n",
       "      <td>5950.000000</td>\n",
       "      <td>173.860000</td>\n",
       "      <td>4.157900e+04</td>\n",
       "      <td>1.000000</td>\n",
       "      <td>8.340000</td>\n",
       "      <td>0.000000</td>\n",
       "      <td>685.000000</td>\n",
       "      <td>689.000000</td>\n",
       "      <td>0.000000</td>\n",
       "      <td>6.000000</td>\n",
       "      <td>0.00000</td>\n",
       "      <td>3885.000000</td>\n",
       "      <td>14.000000</td>\n",
       "      <td>0.0</td>\n",
       "      <td>0.0</td>\n",
       "      <td>0.000000</td>\n",
       "    </tr>\n",
       "    <tr>\n",
       "      <th>50%</th>\n",
       "      <td>5.958470e+05</td>\n",
       "      <td>10000.000000</td>\n",
       "      <td>10000.000000</td>\n",
       "      <td>291.930000</td>\n",
       "      <td>6.000000e+04</td>\n",
       "      <td>1.000000</td>\n",
       "      <td>13.600000</td>\n",
       "      <td>0.000000</td>\n",
       "      <td>710.000000</td>\n",
       "      <td>714.000000</td>\n",
       "      <td>1.000000</td>\n",
       "      <td>9.000000</td>\n",
       "      <td>0.00000</td>\n",
       "      <td>9198.000000</td>\n",
       "      <td>20.000000</td>\n",
       "      <td>0.0</td>\n",
       "      <td>0.0</td>\n",
       "      <td>0.000000</td>\n",
       "    </tr>\n",
       "    <tr>\n",
       "      <th>75%</th>\n",
       "      <td>7.921460e+05</td>\n",
       "      <td>15000.000000</td>\n",
       "      <td>15000.000000</td>\n",
       "      <td>444.790000</td>\n",
       "      <td>8.300000e+04</td>\n",
       "      <td>1.000000</td>\n",
       "      <td>18.830000</td>\n",
       "      <td>0.000000</td>\n",
       "      <td>735.000000</td>\n",
       "      <td>739.000000</td>\n",
       "      <td>2.000000</td>\n",
       "      <td>12.000000</td>\n",
       "      <td>0.00000</td>\n",
       "      <td>17819.000000</td>\n",
       "      <td>29.000000</td>\n",
       "      <td>0.0</td>\n",
       "      <td>0.0</td>\n",
       "      <td>0.000000</td>\n",
       "    </tr>\n",
       "    <tr>\n",
       "      <th>max</th>\n",
       "      <td>1.075358e+06</td>\n",
       "      <td>35000.000000</td>\n",
       "      <td>35000.000000</td>\n",
       "      <td>1288.100000</td>\n",
       "      <td>2.039784e+06</td>\n",
       "      <td>1.000000</td>\n",
       "      <td>29.990000</td>\n",
       "      <td>11.000000</td>\n",
       "      <td>825.000000</td>\n",
       "      <td>829.000000</td>\n",
       "      <td>28.000000</td>\n",
       "      <td>47.000000</td>\n",
       "      <td>3.00000</td>\n",
       "      <td>508961.000000</td>\n",
       "      <td>90.000000</td>\n",
       "      <td>0.0</td>\n",
       "      <td>0.0</td>\n",
       "      <td>1.000000</td>\n",
       "    </tr>\n",
       "  </tbody>\n",
       "</table>\n",
       "</div>"
      ],
      "text/plain": [
       "                 id     loan_amnt   funded_amnt   installment    annual_inc  \\\n",
       "count  1.368900e+04  13689.000000  13689.000000  13689.000000  1.368900e+04   \n",
       "mean   6.233684e+05  11364.750895  11085.603404    332.900659  6.979179e+04   \n",
       "std    2.224602e+05   7259.133486   7011.722526    207.102750  5.787344e+04   \n",
       "min    5.574200e+04    500.000000    500.000000     15.760000  3.600000e+03   \n",
       "25%    4.537700e+05   6000.000000   5950.000000    173.860000  4.157900e+04   \n",
       "50%    5.958470e+05  10000.000000  10000.000000    291.930000  6.000000e+04   \n",
       "75%    7.921460e+05  15000.000000  15000.000000    444.790000  8.300000e+04   \n",
       "max    1.075358e+06  35000.000000  35000.000000   1288.100000  2.039784e+06   \n",
       "\n",
       "        loan_status           dti   delinq_2yrs  fico_range_low  \\\n",
       "count  13689.000000  13689.000000  13689.000000    13689.000000   \n",
       "mean       0.792169     13.489158      0.151143      712.332530   \n",
       "std        0.405770      6.743814      0.499875       35.851729   \n",
       "min        0.000000      0.000000      0.000000      610.000000   \n",
       "25%        1.000000      8.340000      0.000000      685.000000   \n",
       "50%        1.000000     13.600000      0.000000      710.000000   \n",
       "75%        1.000000     18.830000      0.000000      735.000000   \n",
       "max        1.000000     29.990000     11.000000      825.000000   \n",
       "\n",
       "       fico_range_high  inq_last_6mths      open_acc      pub_rec  \\\n",
       "count     13689.000000    13689.000000  13689.000000  13689.00000   \n",
       "mean        716.332530        1.154869      9.478267      0.05793   \n",
       "std          35.851729        1.657204      4.491987      0.24342   \n",
       "min         614.000000        0.000000      1.000000      0.00000   \n",
       "25%         689.000000        0.000000      6.000000      0.00000   \n",
       "50%         714.000000        1.000000      9.000000      0.00000   \n",
       "75%         739.000000        2.000000     12.000000      0.00000   \n",
       "max         829.000000       28.000000     47.000000      3.00000   \n",
       "\n",
       "           revol_bal     total_acc  acc_now_delinq  delinq_amnt     tax_liens  \n",
       "count   13689.000000  13689.000000         13689.0      13689.0  13689.000000  \n",
       "mean    14934.617357     22.224706             0.0          0.0      0.000073  \n",
       "std     22599.094015     11.556404             0.0          0.0      0.008547  \n",
       "min         0.000000      1.000000             0.0          0.0      0.000000  \n",
       "25%      3885.000000     14.000000             0.0          0.0      0.000000  \n",
       "50%      9198.000000     20.000000             0.0          0.0      0.000000  \n",
       "75%     17819.000000     29.000000             0.0          0.0      0.000000  \n",
       "max    508961.000000     90.000000             0.0          0.0      1.000000  "
      ]
     },
     "execution_count": 12,
     "metadata": {},
     "output_type": "execute_result"
    }
   ],
   "source": [
    "train.shape\n",
    "train.loan_status.value_counts()\n",
    "\n",
    "print 10844/(10844+2845.)\n",
    "train.describe()"
   ]
  },
  {
   "cell_type": "code",
   "execution_count": 4,
   "metadata": {
    "collapsed": false
   },
   "outputs": [
    {
     "data": {
      "text/html": [
       "<div>\n",
       "<style scoped>\n",
       "    .dataframe tbody tr th:only-of-type {\n",
       "        vertical-align: middle;\n",
       "    }\n",
       "\n",
       "    .dataframe tbody tr th {\n",
       "        vertical-align: top;\n",
       "    }\n",
       "\n",
       "    .dataframe thead th {\n",
       "        text-align: right;\n",
       "    }\n",
       "</style>\n",
       "<table border=\"1\" class=\"dataframe\">\n",
       "  <thead>\n",
       "    <tr style=\"text-align: right;\">\n",
       "      <th></th>\n",
       "      <th>dtypes</th>\n",
       "      <th>name</th>\n",
       "      <th>description</th>\n",
       "    </tr>\n",
       "  </thead>\n",
       "  <tbody>\n",
       "    <tr>\n",
       "      <th>0</th>\n",
       "      <td>object</td>\n",
       "      <td>id</td>\n",
       "      <td>A unique LC assigned ID for the loan listing.</td>\n",
       "    </tr>\n",
       "    <tr>\n",
       "      <th>1</th>\n",
       "      <td>float64</td>\n",
       "      <td>loan_amnt</td>\n",
       "      <td>The listed amount of the loan applied for by the borrower. If at some point in time, the credit ...</td>\n",
       "    </tr>\n",
       "    <tr>\n",
       "      <th>2</th>\n",
       "      <td>float64</td>\n",
       "      <td>funded_amnt</td>\n",
       "      <td>The total amount committed to that loan at that point in time.</td>\n",
       "    </tr>\n",
       "    <tr>\n",
       "      <th>3</th>\n",
       "      <td>object</td>\n",
       "      <td>term</td>\n",
       "      <td>The number of payments on the loan. Values are in months and can be either 36 or 60.</td>\n",
       "    </tr>\n",
       "    <tr>\n",
       "      <th>4</th>\n",
       "      <td>object</td>\n",
       "      <td>int_rate</td>\n",
       "      <td>Interest Rate on the loan</td>\n",
       "    </tr>\n",
       "    <tr>\n",
       "      <th>5</th>\n",
       "      <td>float64</td>\n",
       "      <td>installment</td>\n",
       "      <td>The monthly payment owed by the borrower if the loan originates.</td>\n",
       "    </tr>\n",
       "    <tr>\n",
       "      <th>6</th>\n",
       "      <td>object</td>\n",
       "      <td>grade</td>\n",
       "      <td>LC assigned loan grade</td>\n",
       "    </tr>\n",
       "    <tr>\n",
       "      <th>7</th>\n",
       "      <td>object</td>\n",
       "      <td>emp_title</td>\n",
       "      <td>The job title supplied by the Borrower when applying for the loan.*</td>\n",
       "    </tr>\n",
       "    <tr>\n",
       "      <th>8</th>\n",
       "      <td>object</td>\n",
       "      <td>emp_length</td>\n",
       "      <td>Employment length in years. Possible values are between 0 and 10 where 0 means less than one yea...</td>\n",
       "    </tr>\n",
       "    <tr>\n",
       "      <th>9</th>\n",
       "      <td>object</td>\n",
       "      <td>home_ownership</td>\n",
       "      <td>The home ownership status provided by the borrower during registration or obtained from the cred...</td>\n",
       "    </tr>\n",
       "    <tr>\n",
       "      <th>10</th>\n",
       "      <td>float64</td>\n",
       "      <td>annual_inc</td>\n",
       "      <td>The self-reported annual income provided by the borrower during registration.</td>\n",
       "    </tr>\n",
       "    <tr>\n",
       "      <th>11</th>\n",
       "      <td>object</td>\n",
       "      <td>verification_status</td>\n",
       "      <td>Indicates if income was verified by LC, not verified, or if the income source was verified</td>\n",
       "    </tr>\n",
       "    <tr>\n",
       "      <th>12</th>\n",
       "      <td>object</td>\n",
       "      <td>loan_status</td>\n",
       "      <td>Current status of the loan</td>\n",
       "    </tr>\n",
       "    <tr>\n",
       "      <th>13</th>\n",
       "      <td>object</td>\n",
       "      <td>desc</td>\n",
       "      <td>Loan description provided by the borrower</td>\n",
       "    </tr>\n",
       "    <tr>\n",
       "      <th>14</th>\n",
       "      <td>object</td>\n",
       "      <td>purpose</td>\n",
       "      <td>A category provided by the borrower for the loan request.</td>\n",
       "    </tr>\n",
       "    <tr>\n",
       "      <th>15</th>\n",
       "      <td>object</td>\n",
       "      <td>title</td>\n",
       "      <td>The loan title provided by the borrower</td>\n",
       "    </tr>\n",
       "    <tr>\n",
       "      <th>16</th>\n",
       "      <td>float64</td>\n",
       "      <td>dti</td>\n",
       "      <td>A ratio calculated using the borrower’s total monthly debt payments on the total debt obligation...</td>\n",
       "    </tr>\n",
       "    <tr>\n",
       "      <th>17</th>\n",
       "      <td>float64</td>\n",
       "      <td>delinq_2yrs</td>\n",
       "      <td>The number of 30+ days past-due incidences of delinquency in the borrower's credit file for the ...</td>\n",
       "    </tr>\n",
       "    <tr>\n",
       "      <th>18</th>\n",
       "      <td>float64</td>\n",
       "      <td>fico_range_low</td>\n",
       "      <td>The lower boundary range the borrower’s FICO at loan origination belongs to.</td>\n",
       "    </tr>\n",
       "    <tr>\n",
       "      <th>19</th>\n",
       "      <td>float64</td>\n",
       "      <td>fico_range_high</td>\n",
       "      <td>The upper boundary range the borrower’s FICO at loan origination belongs to.</td>\n",
       "    </tr>\n",
       "    <tr>\n",
       "      <th>20</th>\n",
       "      <td>float64</td>\n",
       "      <td>inq_last_6mths</td>\n",
       "      <td>The number of inquiries in past 6 months (excluding auto and mortgage inquiries)</td>\n",
       "    </tr>\n",
       "    <tr>\n",
       "      <th>21</th>\n",
       "      <td>float64</td>\n",
       "      <td>open_acc</td>\n",
       "      <td>The number of open credit lines in the borrower's credit file.</td>\n",
       "    </tr>\n",
       "    <tr>\n",
       "      <th>22</th>\n",
       "      <td>float64</td>\n",
       "      <td>pub_rec</td>\n",
       "      <td>Number of derogatory public records</td>\n",
       "    </tr>\n",
       "    <tr>\n",
       "      <th>23</th>\n",
       "      <td>float64</td>\n",
       "      <td>revol_bal</td>\n",
       "      <td>Total credit revolving balance</td>\n",
       "    </tr>\n",
       "    <tr>\n",
       "      <th>24</th>\n",
       "      <td>object</td>\n",
       "      <td>revol_util</td>\n",
       "      <td>Revolving line utilization rate, or the amount of credit the borrower is using relative to all a...</td>\n",
       "    </tr>\n",
       "    <tr>\n",
       "      <th>25</th>\n",
       "      <td>float64</td>\n",
       "      <td>total_acc</td>\n",
       "      <td>The total number of credit lines currently in the borrower's credit file</td>\n",
       "    </tr>\n",
       "    <tr>\n",
       "      <th>26</th>\n",
       "      <td>object</td>\n",
       "      <td>last_credit_pull_d</td>\n",
       "      <td>The most recent month LC pulled credit for this loan</td>\n",
       "    </tr>\n",
       "    <tr>\n",
       "      <th>27</th>\n",
       "      <td>float64</td>\n",
       "      <td>acc_now_delinq</td>\n",
       "      <td>The number of accounts on which the borrower is now delinquent.</td>\n",
       "    </tr>\n",
       "    <tr>\n",
       "      <th>28</th>\n",
       "      <td>float64</td>\n",
       "      <td>delinq_amnt</td>\n",
       "      <td>Total revolving high credit/credit limit</td>\n",
       "    </tr>\n",
       "    <tr>\n",
       "      <th>29</th>\n",
       "      <td>float64</td>\n",
       "      <td>tax_liens</td>\n",
       "      <td>Number of tax liens</td>\n",
       "    </tr>\n",
       "  </tbody>\n",
       "</table>\n",
       "</div>"
      ],
      "text/plain": [
       "     dtypes                 name  \\\n",
       "0    object                   id   \n",
       "1   float64            loan_amnt   \n",
       "2   float64          funded_amnt   \n",
       "3    object                 term   \n",
       "4    object             int_rate   \n",
       "5   float64          installment   \n",
       "6    object                grade   \n",
       "7    object            emp_title   \n",
       "8    object           emp_length   \n",
       "9    object       home_ownership   \n",
       "10  float64           annual_inc   \n",
       "11   object  verification_status   \n",
       "12   object          loan_status   \n",
       "13   object                 desc   \n",
       "14   object              purpose   \n",
       "15   object                title   \n",
       "16  float64                  dti   \n",
       "17  float64          delinq_2yrs   \n",
       "18  float64       fico_range_low   \n",
       "19  float64      fico_range_high   \n",
       "20  float64       inq_last_6mths   \n",
       "21  float64             open_acc   \n",
       "22  float64              pub_rec   \n",
       "23  float64            revol_bal   \n",
       "24   object           revol_util   \n",
       "25  float64            total_acc   \n",
       "26   object   last_credit_pull_d   \n",
       "27  float64       acc_now_delinq   \n",
       "28  float64          delinq_amnt   \n",
       "29  float64            tax_liens   \n",
       "\n",
       "                                                                                            description  \n",
       "0                                                         A unique LC assigned ID for the loan listing.  \n",
       "1   The listed amount of the loan applied for by the borrower. If at some point in time, the credit ...  \n",
       "2                                        The total amount committed to that loan at that point in time.  \n",
       "3                  The number of payments on the loan. Values are in months and can be either 36 or 60.  \n",
       "4                                                                             Interest Rate on the loan  \n",
       "5                                      The monthly payment owed by the borrower if the loan originates.  \n",
       "6                                                                                LC assigned loan grade  \n",
       "7                                   The job title supplied by the Borrower when applying for the loan.*  \n",
       "8   Employment length in years. Possible values are between 0 and 10 where 0 means less than one yea...  \n",
       "9   The home ownership status provided by the borrower during registration or obtained from the cred...  \n",
       "10                        The self-reported annual income provided by the borrower during registration.  \n",
       "11           Indicates if income was verified by LC, not verified, or if the income source was verified  \n",
       "12                                                                           Current status of the loan  \n",
       "13                                                            Loan description provided by the borrower  \n",
       "14                                           A category provided by the borrower for the loan request.   \n",
       "15                                                              The loan title provided by the borrower  \n",
       "16  A ratio calculated using the borrower’s total monthly debt payments on the total debt obligation...  \n",
       "17  The number of 30+ days past-due incidences of delinquency in the borrower's credit file for the ...  \n",
       "18                         The lower boundary range the borrower’s FICO at loan origination belongs to.  \n",
       "19                         The upper boundary range the borrower’s FICO at loan origination belongs to.  \n",
       "20                     The number of inquiries in past 6 months (excluding auto and mortgage inquiries)  \n",
       "21                                       The number of open credit lines in the borrower's credit file.  \n",
       "22                                                                  Number of derogatory public records  \n",
       "23                                                                       Total credit revolving balance  \n",
       "24  Revolving line utilization rate, or the amount of credit the borrower is using relative to all a...  \n",
       "25                             The total number of credit lines currently in the borrower's credit file  \n",
       "26                                                 The most recent month LC pulled credit for this loan  \n",
       "27                                      The number of accounts on which the borrower is now delinquent.  \n",
       "28                                                             Total revolving high credit/credit limit  \n",
       "29                                                                                  Number of tax liens  "
      ]
     },
     "execution_count": 4,
     "metadata": {},
     "output_type": "execute_result"
    }
   ],
   "source": [
    "#Load in data dictionary\n",
    "data_dict = pd.read_csv(\"../../data/lending_club/the_data_dictionary.csv\")\n",
    "data_dict"
   ]
  },
  {
   "cell_type": "code",
   "execution_count": 208,
   "metadata": {
    "collapsed": true
   },
   "outputs": [],
   "source": [
    "#Load in test data when you're ready \n",
    "test = pd.read_csv(\"../../data/lending_club/challenge_testing_data.csv\")"
   ]
  },
  {
   "cell_type": "markdown",
   "metadata": {},
   "source": [
    "Here is the threshold function. Input your probabilities for class 1 and set a probability threshold of your choice. The default threshold is 0.5. The output will be 1's and 0s, 1 values for all the values that are greater or equal to your predetermined threshold value."
   ]
  },
  {
   "cell_type": "code",
   "execution_count": 18,
   "metadata": {
    "collapsed": true
   },
   "outputs": [],
   "source": [
    "\n",
    "def threshold(probs, thres = 0.5):\n",
    "    output = np.where(probs >= thres, 1, 0)\n",
    "    return output"
   ]
  },
  {
   "cell_type": "markdown",
   "metadata": {},
   "source": [
    "This is the profit function. It takes in a dataframe with the loan_amnt, int_rate, target variable, and class predictions values.\n",
    "\n",
    "- It first checks to see if a row has 0 in the outcome column and 1 in the predicted (false positive) and returns the negative value of the loan_amnt. This is how much money you lost for loans that mean that condition.\n",
    "\n",
    "- Then it checks for true positives, meaning conditions where both the target and predicted values equal 1, then return the loan_amnt times the int_rate divided by 100. This is how much money you made from loans that meet this condition.\n",
    "\n",
    "- Everything else gets a zero."
   ]
  },
  {
   "cell_type": "code",
   "execution_count": 19,
   "metadata": {
    "collapsed": true
   },
   "outputs": [],
   "source": [
    "def profit_function(data):\n",
    "    if data.target == 0 and data.predicted == 1:\n",
    "        return -1 *data.loan_amnt\n",
    "    elif data.target == 1 and data.predicted == 1:\n",
    "        return data.loan_amnt * (data.int_rate/100.)\n",
    "    else:\n",
    "        return 0"
   ]
  },
  {
   "cell_type": "markdown",
   "metadata": {},
   "source": [
    "Here's an example of using the threshold and profit_functions"
   ]
  },
  {
   "cell_type": "code",
   "execution_count": 7,
   "metadata": {
    "collapsed": false
   },
   "outputs": [
    {
     "data": {
      "text/plain": [
       "array([0, 0, 1, 1, 0, 1])"
      ]
     },
     "execution_count": 7,
     "metadata": {},
     "output_type": "execute_result"
    }
   ],
   "source": [
    "#List of probabilities\n",
    "probs = np.array([0.2, 0.5, 0.8, 0.9, 0.1, 0.75])\n",
    "\n",
    "#Pass in probabilities into threshold function, using .7 as threshold\n",
    "preds = threshold(probs, thres=.7)\n",
    "preds"
   ]
  },
  {
   "cell_type": "code",
   "execution_count": 8,
   "metadata": {
    "collapsed": false
   },
   "outputs": [
    {
     "data": {
      "text/html": [
       "<div>\n",
       "<style scoped>\n",
       "    .dataframe tbody tr th:only-of-type {\n",
       "        vertical-align: middle;\n",
       "    }\n",
       "\n",
       "    .dataframe tbody tr th {\n",
       "        vertical-align: top;\n",
       "    }\n",
       "\n",
       "    .dataframe thead th {\n",
       "        text-align: right;\n",
       "    }\n",
       "</style>\n",
       "<table border=\"1\" class=\"dataframe\">\n",
       "  <thead>\n",
       "    <tr style=\"text-align: right;\">\n",
       "      <th></th>\n",
       "      <th>int_rate</th>\n",
       "      <th>loan_amnt</th>\n",
       "      <th>target</th>\n",
       "    </tr>\n",
       "  </thead>\n",
       "  <tbody>\n",
       "    <tr>\n",
       "      <th>0</th>\n",
       "      <td>18</td>\n",
       "      <td>1000</td>\n",
       "      <td>0</td>\n",
       "    </tr>\n",
       "    <tr>\n",
       "      <th>1</th>\n",
       "      <td>20</td>\n",
       "      <td>500</td>\n",
       "      <td>1</td>\n",
       "    </tr>\n",
       "    <tr>\n",
       "      <th>2</th>\n",
       "      <td>4</td>\n",
       "      <td>200</td>\n",
       "      <td>0</td>\n",
       "    </tr>\n",
       "    <tr>\n",
       "      <th>3</th>\n",
       "      <td>5</td>\n",
       "      <td>5000</td>\n",
       "      <td>1</td>\n",
       "    </tr>\n",
       "    <tr>\n",
       "      <th>4</th>\n",
       "      <td>2</td>\n",
       "      <td>3000</td>\n",
       "      <td>0</td>\n",
       "    </tr>\n",
       "    <tr>\n",
       "      <th>5</th>\n",
       "      <td>10</td>\n",
       "      <td>6000</td>\n",
       "      <td>1</td>\n",
       "    </tr>\n",
       "  </tbody>\n",
       "</table>\n",
       "</div>"
      ],
      "text/plain": [
       "   int_rate  loan_amnt  target\n",
       "0        18       1000       0\n",
       "1        20        500       1\n",
       "2         4        200       0\n",
       "3         5       5000       1\n",
       "4         2       3000       0\n",
       "5        10       6000       1"
      ]
     },
     "execution_count": 8,
     "metadata": {},
     "output_type": "execute_result"
    }
   ],
   "source": [
    "sample_df = {\"loan_amnt\": [1000, 500, 200, 5000, 3000, 6000],\n",
    "            \"int_rate\": [18, 20, 4, 5, 2, 10], \n",
    "            \"target\": [0, 1, 0, 1, 0, 1]}\n",
    "\n",
    "#Put dictionary in data frame\n",
    "\n",
    "profit_df = pd.DataFrame(sample_df)\n",
    "\n",
    "profit_df"
   ]
  },
  {
   "cell_type": "code",
   "execution_count": 8,
   "metadata": {
    "collapsed": false
   },
   "outputs": [
    {
     "data": {
      "text/html": [
       "<div>\n",
       "<table border=\"1\" class=\"dataframe\">\n",
       "  <thead>\n",
       "    <tr style=\"text-align: right;\">\n",
       "      <th></th>\n",
       "      <th>int_rate</th>\n",
       "      <th>loan_amnt</th>\n",
       "      <th>target</th>\n",
       "      <th>predicted</th>\n",
       "    </tr>\n",
       "  </thead>\n",
       "  <tbody>\n",
       "    <tr>\n",
       "      <th>0</th>\n",
       "      <td>18</td>\n",
       "      <td>1000</td>\n",
       "      <td>0</td>\n",
       "      <td>0</td>\n",
       "    </tr>\n",
       "    <tr>\n",
       "      <th>1</th>\n",
       "      <td>20</td>\n",
       "      <td>500</td>\n",
       "      <td>1</td>\n",
       "      <td>0</td>\n",
       "    </tr>\n",
       "    <tr>\n",
       "      <th>2</th>\n",
       "      <td>4</td>\n",
       "      <td>200</td>\n",
       "      <td>0</td>\n",
       "      <td>1</td>\n",
       "    </tr>\n",
       "    <tr>\n",
       "      <th>3</th>\n",
       "      <td>5</td>\n",
       "      <td>5000</td>\n",
       "      <td>1</td>\n",
       "      <td>1</td>\n",
       "    </tr>\n",
       "    <tr>\n",
       "      <th>4</th>\n",
       "      <td>2</td>\n",
       "      <td>3000</td>\n",
       "      <td>0</td>\n",
       "      <td>0</td>\n",
       "    </tr>\n",
       "    <tr>\n",
       "      <th>5</th>\n",
       "      <td>10</td>\n",
       "      <td>6000</td>\n",
       "      <td>1</td>\n",
       "      <td>1</td>\n",
       "    </tr>\n",
       "  </tbody>\n",
       "</table>\n",
       "</div>"
      ],
      "text/plain": [
       "   int_rate  loan_amnt  target  predicted\n",
       "0        18       1000       0          0\n",
       "1        20        500       1          0\n",
       "2         4        200       0          1\n",
       "3         5       5000       1          1\n",
       "4         2       3000       0          0\n",
       "5        10       6000       1          1"
      ]
     },
     "execution_count": 8,
     "metadata": {},
     "output_type": "execute_result"
    }
   ],
   "source": [
    "#Add in predictions\n",
    "\n",
    "profit_df[\"predicted\"] = preds\n",
    "profit_df"
   ]
  },
  {
   "cell_type": "code",
   "execution_count": 11,
   "metadata": {
    "collapsed": false
   },
   "outputs": [
    {
     "data": {
      "text/plain": [
       "0      0.0\n",
       "1      0.0\n",
       "2   -200.0\n",
       "3    250.0\n",
       "4      0.0\n",
       "5    600.0\n",
       "dtype: float64"
      ]
     },
     "execution_count": 11,
     "metadata": {},
     "output_type": "execute_result"
    }
   ],
   "source": [
    "#Apply function onto data frame\n",
    "profit_series = profit_df.apply(profit_function, axis = 1)\n",
    "profit_series"
   ]
  },
  {
   "cell_type": "code",
   "execution_count": 12,
   "metadata": {
    "collapsed": false
   },
   "outputs": [
    {
     "data": {
      "text/plain": [
       "650.0"
      ]
     },
     "execution_count": 12,
     "metadata": {},
     "output_type": "execute_result"
    }
   ],
   "source": [
    "#Sum up profits and losses\n",
    "profit_series.sum()"
   ]
  },
  {
   "cell_type": "markdown",
   "metadata": {},
   "source": [
    "This model made $650"
   ]
  },
  {
   "cell_type": "code",
   "execution_count": null,
   "metadata": {
    "collapsed": true
   },
   "outputs": [],
   "source": []
  },
  {
   "cell_type": "code",
   "execution_count": null,
   "metadata": {
    "collapsed": true
   },
   "outputs": [],
   "source": []
  },
  {
   "cell_type": "markdown",
   "metadata": {},
   "source": [
    "## Let the games begin!!"
   ]
  },
  {
   "cell_type": "code",
   "execution_count": 4,
   "metadata": {
    "collapsed": false
   },
   "outputs": [],
   "source": [
    "from sklearn.tree import DecisionTreeClassifier\n",
    "from sklearn.cross_validation import cross_val_score, train_test_split"
   ]
  },
  {
   "cell_type": "code",
   "execution_count": 5,
   "metadata": {
    "collapsed": true
   },
   "outputs": [],
   "source": [
    "train = pd.read_csv(\"../../data/lending_club/challenge_training_data.csv\")\n",
    "test = pd.read_csv(\"../../data/lending_club/challenge_testing_data.csv\")"
   ]
  },
  {
   "cell_type": "code",
   "execution_count": 235,
   "metadata": {
    "collapsed": false
   },
   "outputs": [
    {
     "data": {
      "text/html": [
       "<div>\n",
       "<table border=\"1\" class=\"dataframe\">\n",
       "  <thead>\n",
       "    <tr style=\"text-align: right;\">\n",
       "      <th></th>\n",
       "      <th>id</th>\n",
       "      <th>loan_amnt</th>\n",
       "      <th>funded_amnt</th>\n",
       "      <th>term</th>\n",
       "      <th>int_rate</th>\n",
       "      <th>installment</th>\n",
       "      <th>grade</th>\n",
       "      <th>emp_title</th>\n",
       "      <th>emp_length</th>\n",
       "      <th>home_ownership</th>\n",
       "      <th>annual_inc</th>\n",
       "      <th>verification_status</th>\n",
       "      <th>loan_status</th>\n",
       "      <th>desc</th>\n",
       "      <th>purpose</th>\n",
       "      <th>title</th>\n",
       "      <th>dti</th>\n",
       "      <th>delinq_2yrs</th>\n",
       "      <th>fico_range_low</th>\n",
       "      <th>fico_range_high</th>\n",
       "      <th>inq_last_6mths</th>\n",
       "      <th>open_acc</th>\n",
       "      <th>pub_rec</th>\n",
       "      <th>revol_bal</th>\n",
       "      <th>revol_util</th>\n",
       "      <th>total_acc</th>\n",
       "      <th>last_credit_pull_d</th>\n",
       "      <th>acc_now_delinq</th>\n",
       "      <th>delinq_amnt</th>\n",
       "      <th>tax_liens</th>\n",
       "    </tr>\n",
       "  </thead>\n",
       "  <tbody>\n",
       "    <tr>\n",
       "      <th>0</th>\n",
       "      <td>742238</td>\n",
       "      <td>3150.0</td>\n",
       "      <td>3150.0</td>\n",
       "      <td>36 months</td>\n",
       "      <td>10.99%</td>\n",
       "      <td>103.12</td>\n",
       "      <td>B</td>\n",
       "      <td>A-1 Casino Rd Mini Storage</td>\n",
       "      <td>9 years</td>\n",
       "      <td>RENT</td>\n",
       "      <td>15300.0</td>\n",
       "      <td>Verified</td>\n",
       "      <td>1</td>\n",
       "      <td>Borrower added on 05/02/11 &gt; I plan to use these funds to pay off a higher rate credit card.&lt;b...</td>\n",
       "      <td>debt_consolidation</td>\n",
       "      <td>lowerinterest</td>\n",
       "      <td>19.76</td>\n",
       "      <td>0.0</td>\n",
       "      <td>695.0</td>\n",
       "      <td>699.0</td>\n",
       "      <td>0.0</td>\n",
       "      <td>5.0</td>\n",
       "      <td>0.0</td>\n",
       "      <td>9316.0</td>\n",
       "      <td>76.4%</td>\n",
       "      <td>9.0</td>\n",
       "      <td>Feb-2014</td>\n",
       "      <td>0.0</td>\n",
       "      <td>0.0</td>\n",
       "      <td>0.0</td>\n",
       "    </tr>\n",
       "    <tr>\n",
       "      <th>1</th>\n",
       "      <td>567423</td>\n",
       "      <td>10000.0</td>\n",
       "      <td>10000.0</td>\n",
       "      <td>36 months</td>\n",
       "      <td>7.51%</td>\n",
       "      <td>311.11</td>\n",
       "      <td>A</td>\n",
       "      <td>ORION MECHANICAL INC.</td>\n",
       "      <td>4 years</td>\n",
       "      <td>OWN</td>\n",
       "      <td>125000.0</td>\n",
       "      <td>Not Verified</td>\n",
       "      <td>1</td>\n",
       "      <td>Borrower added on 08/19/10 &gt; CONSOLIDATE OUT STANDING CREDIT CARD LOANS AND PURCHASES FOR NEW ...</td>\n",
       "      <td>debt_consolidation</td>\n",
       "      <td>CONSOLIDATE</td>\n",
       "      <td>18.43</td>\n",
       "      <td>0.0</td>\n",
       "      <td>800.0</td>\n",
       "      <td>804.0</td>\n",
       "      <td>1.0</td>\n",
       "      <td>16.0</td>\n",
       "      <td>0.0</td>\n",
       "      <td>25364.0</td>\n",
       "      <td>2.9%</td>\n",
       "      <td>40.0</td>\n",
       "      <td>Feb-2017</td>\n",
       "      <td>0.0</td>\n",
       "      <td>0.0</td>\n",
       "      <td>0.0</td>\n",
       "    </tr>\n",
       "  </tbody>\n",
       "</table>\n",
       "</div>"
      ],
      "text/plain": [
       "       id  loan_amnt  funded_amnt        term int_rate  installment grade  \\\n",
       "0  742238     3150.0       3150.0   36 months   10.99%       103.12     B   \n",
       "1  567423    10000.0      10000.0   36 months    7.51%       311.11     A   \n",
       "\n",
       "                    emp_title emp_length home_ownership  annual_inc  \\\n",
       "0  A-1 Casino Rd Mini Storage    9 years           RENT     15300.0   \n",
       "1       ORION MECHANICAL INC.    4 years            OWN    125000.0   \n",
       "\n",
       "  verification_status  loan_status  \\\n",
       "0            Verified            1   \n",
       "1        Not Verified            1   \n",
       "\n",
       "                                                                                                  desc  \\\n",
       "0    Borrower added on 05/02/11 > I plan to use these funds to pay off a higher rate credit card.<b...   \n",
       "1    Borrower added on 08/19/10 > CONSOLIDATE OUT STANDING CREDIT CARD LOANS AND PURCHASES FOR NEW ...   \n",
       "\n",
       "              purpose          title    dti  delinq_2yrs  fico_range_low  \\\n",
       "0  debt_consolidation  lowerinterest  19.76          0.0           695.0   \n",
       "1  debt_consolidation    CONSOLIDATE  18.43          0.0           800.0   \n",
       "\n",
       "   fico_range_high  inq_last_6mths  open_acc  pub_rec  revol_bal revol_util  \\\n",
       "0            699.0             0.0       5.0      0.0     9316.0      76.4%   \n",
       "1            804.0             1.0      16.0      0.0    25364.0       2.9%   \n",
       "\n",
       "   total_acc last_credit_pull_d  acc_now_delinq  delinq_amnt  tax_liens  \n",
       "0        9.0           Feb-2014             0.0          0.0        0.0  \n",
       "1       40.0           Feb-2017             0.0          0.0        0.0  "
      ]
     },
     "execution_count": 235,
     "metadata": {},
     "output_type": "execute_result"
    }
   ],
   "source": [
    "train.head(2)"
   ]
  },
  {
   "cell_type": "code",
   "execution_count": 184,
   "metadata": {
    "collapsed": false,
    "scrolled": true
   },
   "outputs": [],
   "source": [
    "\n",
    "\n",
    "\n",
    "\n",
    "\n"
   ]
  },
  {
   "cell_type": "code",
   "execution_count": 6,
   "metadata": {
    "collapsed": false
   },
   "outputs": [],
   "source": [
    "train.term.value_counts()\n",
    "\n",
    "def transform_term(string):\n",
    "        return string.replace(\"months\", \"\")\n",
    "    \n",
    "def transform_emp_length(string):\n",
    "        return string.replace(\"years\", \"\").replace(\"< 1\", \"0\").replace(\"10+\", \"11\").replace(\"year\", \"\").replace(\"n/a\", \"0\")\n",
    "    \n",
    "def transform_int_rate (string):\n",
    "        return string.replace(\"%\", \"\")\n",
    "\n",
    "\n",
    "def clean_dataframe(df):\n",
    "    \n",
    "    df = df.set_index(\"id\")\n",
    "    target = df.loan_status\n",
    "    \n",
    "    df = df.drop([\"loan_status\", \"emp_title\", \"desc\", \"title\", \"last_credit_pull_d\"\n",
    "                    , \"grade\", \"verification_status\", \"purpose\"\n",
    "                  , \"home_ownership\", \"acc_now_delinq\", \"delinq_amnt\", \"pub_rec\", \"tax_liens\"\n",
    "                  , \"revol_bal\", \"total_acc\", \"dti\", \"term\", \"funded_amnt\", \"annual_inc\", \"open_acc\",\n",
    "                  \"revol_util\", \"installment\", \"emp_length\", \"delinq_2yrs\" \n",
    "                   ], axis=1)\n",
    "    #df = pd.get_dummies(df, columns=['grade', 'verification_status', 'purpose'])\n",
    "    #df.term = df.term.apply(transform_term)\n",
    "    df.int_rate = df.int_rate.apply(transform_int_rate)\n",
    "    df.int_rate = df.int_rate.apply(float)\n",
    "    #df.emp_length = df.emp_length.apply(transform_emp_length)\n",
    "    #df.revol_util = df.revol_util.apply(transform_int_rate)\n",
    "    \n",
    "    return df, target\n",
    "\n"
   ]
  },
  {
   "cell_type": "code",
   "execution_count": 7,
   "metadata": {
    "collapsed": false
   },
   "outputs": [
    {
     "data": {
      "text/plain": [
       "(13689, 5)"
      ]
     },
     "execution_count": 7,
     "metadata": {},
     "output_type": "execute_result"
    }
   ],
   "source": [
    "train_final, target_final = clean_dataframe(train)\n",
    "train_final.shape"
   ]
  },
  {
   "cell_type": "code",
   "execution_count": 8,
   "metadata": {
    "collapsed": false
   },
   "outputs": [
    {
     "data": {
      "text/plain": [
       "(13689, 5)"
      ]
     },
     "execution_count": 8,
     "metadata": {},
     "output_type": "execute_result"
    }
   ],
   "source": [
    "test_final, test_target = clean_dataframe(test)\n",
    "test_final.shape\n",
    "#train.emp_length.value_counts()"
   ]
  },
  {
   "cell_type": "code",
   "execution_count": 195,
   "metadata": {
    "collapsed": false
   },
   "outputs": [
    {
     "data": {
      "text/plain": [
       "[0.839286905567708,\n",
       " 0.8591600326353397,\n",
       " 0.8592329189327158,\n",
       " 0.8609135664400587,\n",
       " 0.8621536990845952,\n",
       " 0.8634689552970265,\n",
       " 0.8624472687379106,\n",
       " 0.8611312664575188,\n",
       " 0.859597990084203,\n",
       " 0.8571136761786287,\n",
       " 0.8545560506733839,\n",
       " 0.852730162899179,\n",
       " 0.8482015154451,\n",
       " 0.8428668576077962,\n",
       " 0.8408940255574633,\n",
       " 0.8346116321141999,\n",
       " 0.8287668762874961,\n",
       " 0.8228465691016359,\n",
       " 0.8191206301044831]"
      ]
     },
     "execution_count": 195,
     "metadata": {},
     "output_type": "execute_result"
    },
    {
     "data": {
      "image/png": "[encoded data removed]",
      "text/plain": [
       "<matplotlib.figure.Figure at 0x1128ede50>"
      ]
     },
     "metadata": {},
     "output_type": "display_data"
    }
   ],
   "source": [
    "\n",
    "#Answer\n",
    "max_depths = range(1, 20)\n",
    "\n",
    "cv_scores = []\n",
    "\n",
    "for i in range(1, 20):\n",
    "    cv_score = cross_val_score(DecisionTreeClassifier(max_depth=i), train_final, target_final, cv=20, scoring = \"accuracy\")\n",
    "    cv_scores.append(cv_score.mean())\n",
    "\n",
    "\n",
    "plt.plot(max_depths, cv_scores, linewidth = 3)\n",
    "plt.xlabel(\"Max Depth Values\")\n",
    "plt.ylabel(\"Average Cross Validated Accuracy\");\n",
    "\n",
    "cv_scores"
   ]
  },
  {
   "cell_type": "code",
   "execution_count": 10,
   "metadata": {
    "collapsed": true
   },
   "outputs": [],
   "source": [
    "depth = 6"
   ]
  },
  {
   "cell_type": "code",
   "execution_count": 11,
   "metadata": {
    "collapsed": false
   },
   "outputs": [
    {
     "name": "stdout",
     "output_type": "stream",
     "text": [
      "The test score is 86.386 percent\n"
     ]
    }
   ],
   "source": [
    "#Train and test with random state = 4 and test size = .25\n",
    "X_train, X_test, y_train, y_test = train_test_split(train_final, target_final, test_size = .25, random_state = 4)\n",
    "\n",
    "\n",
    "#Fit model with best depth value\n",
    "model = DecisionTreeClassifier(max_depth = depth)\n",
    "model.fit(X_train, y_train)\n",
    "\n",
    "#Score model on test set\n",
    "testscore = model.score(X_test, y_test)\n",
    "\n",
    "print (\"The test score is {:.3f} percent\".format(testscore*100))"
   ]
  },
  {
   "cell_type": "code",
   "execution_count": 12,
   "metadata": {
    "collapsed": false
   },
   "outputs": [
    {
     "data": {
      "text/html": [
       "<div>\n",
       "<table border=\"1\" class=\"dataframe\">\n",
       "  <thead>\n",
       "    <tr style=\"text-align: right;\">\n",
       "      <th></th>\n",
       "      <th>features</th>\n",
       "      <th>importance_score</th>\n",
       "    </tr>\n",
       "  </thead>\n",
       "  <tbody>\n",
       "    <tr>\n",
       "      <th>4</th>\n",
       "      <td>inq_last_6mths</td>\n",
       "      <td>0.569780</td>\n",
       "    </tr>\n",
       "    <tr>\n",
       "      <th>3</th>\n",
       "      <td>fico_range_high</td>\n",
       "      <td>0.306133</td>\n",
       "    </tr>\n",
       "    <tr>\n",
       "      <th>1</th>\n",
       "      <td>int_rate</td>\n",
       "      <td>0.110262</td>\n",
       "    </tr>\n",
       "    <tr>\n",
       "      <th>0</th>\n",
       "      <td>loan_amnt</td>\n",
       "      <td>0.011621</td>\n",
       "    </tr>\n",
       "    <tr>\n",
       "      <th>2</th>\n",
       "      <td>fico_range_low</td>\n",
       "      <td>0.002203</td>\n",
       "    </tr>\n",
       "  </tbody>\n",
       "</table>\n",
       "</div>"
      ],
      "text/plain": [
       "          features  importance_score\n",
       "4   inq_last_6mths          0.569780\n",
       "3  fico_range_high          0.306133\n",
       "1         int_rate          0.110262\n",
       "0        loan_amnt          0.011621\n",
       "2   fico_range_low          0.002203"
      ]
     },
     "execution_count": 12,
     "metadata": {},
     "output_type": "execute_result"
    }
   ],
   "source": [
    "fi = pd.DataFrame(list(zip(train_final.columns, model.feature_importances_)), columns=[\"features\", \"importance_score\"])\n",
    "fi.sort_values(by = \"importance_score\", ascending=False)"
   ]
  },
  {
   "cell_type": "code",
   "execution_count": 202,
   "metadata": {
    "collapsed": false
   },
   "outputs": [
    {
     "data": {
      "text/html": [
       "<div>\n",
       "<table border=\"1\" class=\"dataframe\">\n",
       "  <thead>\n",
       "    <tr style=\"text-align: right;\">\n",
       "      <th></th>\n",
       "      <th>loan_amnt</th>\n",
       "      <th>funded_amnt</th>\n",
       "      <th>term</th>\n",
       "      <th>int_rate</th>\n",
       "      <th>installment</th>\n",
       "      <th>emp_length</th>\n",
       "      <th>annual_inc</th>\n",
       "      <th>dti</th>\n",
       "      <th>delinq_2yrs</th>\n",
       "      <th>fico_range_low</th>\n",
       "      <th>fico_range_high</th>\n",
       "      <th>inq_last_6mths</th>\n",
       "      <th>open_acc</th>\n",
       "      <th>pub_rec</th>\n",
       "      <th>revol_bal</th>\n",
       "      <th>revol_util</th>\n",
       "      <th>total_acc</th>\n",
       "      <th>acc_now_delinq</th>\n",
       "      <th>delinq_amnt</th>\n",
       "      <th>tax_liens</th>\n",
       "      <th>grade_A</th>\n",
       "      <th>grade_B</th>\n",
       "      <th>grade_C</th>\n",
       "      <th>grade_D</th>\n",
       "      <th>grade_E</th>\n",
       "      <th>grade_F</th>\n",
       "      <th>grade_G</th>\n",
       "      <th>home_ownership_MORTGAGE</th>\n",
       "      <th>home_ownership_NONE</th>\n",
       "      <th>home_ownership_OTHER</th>\n",
       "      <th>home_ownership_OWN</th>\n",
       "      <th>home_ownership_RENT</th>\n",
       "      <th>verification_status_Not Verified</th>\n",
       "      <th>verification_status_Source Verified</th>\n",
       "      <th>verification_status_Verified</th>\n",
       "      <th>purpose_car</th>\n",
       "      <th>purpose_credit_card</th>\n",
       "      <th>purpose_debt_consolidation</th>\n",
       "      <th>purpose_educational</th>\n",
       "      <th>purpose_home_improvement</th>\n",
       "      <th>purpose_house</th>\n",
       "      <th>purpose_major_purchase</th>\n",
       "      <th>purpose_medical</th>\n",
       "      <th>purpose_moving</th>\n",
       "      <th>purpose_other</th>\n",
       "      <th>purpose_renewable_energy</th>\n",
       "      <th>purpose_small_business</th>\n",
       "      <th>purpose_vacation</th>\n",
       "      <th>purpose_wedding</th>\n",
       "    </tr>\n",
       "    <tr>\n",
       "      <th>id</th>\n",
       "      <th></th>\n",
       "      <th></th>\n",
       "      <th></th>\n",
       "      <th></th>\n",
       "      <th></th>\n",
       "      <th></th>\n",
       "      <th></th>\n",
       "      <th></th>\n",
       "      <th></th>\n",
       "      <th></th>\n",
       "      <th></th>\n",
       "      <th></th>\n",
       "      <th></th>\n",
       "      <th></th>\n",
       "      <th></th>\n",
       "      <th></th>\n",
       "      <th></th>\n",
       "      <th></th>\n",
       "      <th></th>\n",
       "      <th></th>\n",
       "      <th></th>\n",
       "      <th></th>\n",
       "      <th></th>\n",
       "      <th></th>\n",
       "      <th></th>\n",
       "      <th></th>\n",
       "      <th></th>\n",
       "      <th></th>\n",
       "      <th></th>\n",
       "      <th></th>\n",
       "      <th></th>\n",
       "      <th></th>\n",
       "      <th></th>\n",
       "      <th></th>\n",
       "      <th></th>\n",
       "      <th></th>\n",
       "      <th></th>\n",
       "      <th></th>\n",
       "      <th></th>\n",
       "      <th></th>\n",
       "      <th></th>\n",
       "      <th></th>\n",
       "      <th></th>\n",
       "      <th></th>\n",
       "      <th></th>\n",
       "      <th></th>\n",
       "      <th></th>\n",
       "      <th></th>\n",
       "      <th></th>\n",
       "    </tr>\n",
       "  </thead>\n",
       "  <tbody>\n",
       "    <tr>\n",
       "      <th>742238</th>\n",
       "      <td>3150.0</td>\n",
       "      <td>3150.0</td>\n",
       "      <td>36</td>\n",
       "      <td>10.99</td>\n",
       "      <td>103.12</td>\n",
       "      <td>9</td>\n",
       "      <td>15300.0</td>\n",
       "      <td>19.76</td>\n",
       "      <td>0.0</td>\n",
       "      <td>695.0</td>\n",
       "      <td>699.0</td>\n",
       "      <td>0.0</td>\n",
       "      <td>5.0</td>\n",
       "      <td>0.0</td>\n",
       "      <td>9316.0</td>\n",
       "      <td>76.4</td>\n",
       "      <td>9.0</td>\n",
       "      <td>0.0</td>\n",
       "      <td>0.0</td>\n",
       "      <td>0.0</td>\n",
       "      <td>0</td>\n",
       "      <td>1</td>\n",
       "      <td>0</td>\n",
       "      <td>0</td>\n",
       "      <td>0</td>\n",
       "      <td>0</td>\n",
       "      <td>0</td>\n",
       "      <td>0</td>\n",
       "      <td>0</td>\n",
       "      <td>0</td>\n",
       "      <td>0</td>\n",
       "      <td>1</td>\n",
       "      <td>0</td>\n",
       "      <td>0</td>\n",
       "      <td>1</td>\n",
       "      <td>0</td>\n",
       "      <td>0</td>\n",
       "      <td>1</td>\n",
       "      <td>0</td>\n",
       "      <td>0</td>\n",
       "      <td>0</td>\n",
       "      <td>0</td>\n",
       "      <td>0</td>\n",
       "      <td>0</td>\n",
       "      <td>0</td>\n",
       "      <td>0</td>\n",
       "      <td>0</td>\n",
       "      <td>0</td>\n",
       "      <td>0</td>\n",
       "    </tr>\n",
       "    <tr>\n",
       "      <th>567423</th>\n",
       "      <td>10000.0</td>\n",
       "      <td>10000.0</td>\n",
       "      <td>36</td>\n",
       "      <td>7.51</td>\n",
       "      <td>311.11</td>\n",
       "      <td>4</td>\n",
       "      <td>125000.0</td>\n",
       "      <td>18.43</td>\n",
       "      <td>0.0</td>\n",
       "      <td>800.0</td>\n",
       "      <td>804.0</td>\n",
       "      <td>1.0</td>\n",
       "      <td>16.0</td>\n",
       "      <td>0.0</td>\n",
       "      <td>25364.0</td>\n",
       "      <td>2.9</td>\n",
       "      <td>40.0</td>\n",
       "      <td>0.0</td>\n",
       "      <td>0.0</td>\n",
       "      <td>0.0</td>\n",
       "      <td>1</td>\n",
       "      <td>0</td>\n",
       "      <td>0</td>\n",
       "      <td>0</td>\n",
       "      <td>0</td>\n",
       "      <td>0</td>\n",
       "      <td>0</td>\n",
       "      <td>0</td>\n",
       "      <td>0</td>\n",
       "      <td>0</td>\n",
       "      <td>1</td>\n",
       "      <td>0</td>\n",
       "      <td>1</td>\n",
       "      <td>0</td>\n",
       "      <td>0</td>\n",
       "      <td>0</td>\n",
       "      <td>0</td>\n",
       "      <td>1</td>\n",
       "      <td>0</td>\n",
       "      <td>0</td>\n",
       "      <td>0</td>\n",
       "      <td>0</td>\n",
       "      <td>0</td>\n",
       "      <td>0</td>\n",
       "      <td>0</td>\n",
       "      <td>0</td>\n",
       "      <td>0</td>\n",
       "      <td>0</td>\n",
       "      <td>0</td>\n",
       "    </tr>\n",
       "  </tbody>\n",
       "</table>\n",
       "</div>"
      ],
      "text/plain": [
       "        loan_amnt  funded_amnt  term int_rate  installment emp_length  \\\n",
       "id                                                                      \n",
       "742238     3150.0       3150.0   36     10.99       103.12         9    \n",
       "567423    10000.0      10000.0   36      7.51       311.11         4    \n",
       "\n",
       "        annual_inc    dti  delinq_2yrs  fico_range_low  fico_range_high  \\\n",
       "id                                                                        \n",
       "742238     15300.0  19.76          0.0           695.0            699.0   \n",
       "567423    125000.0  18.43          0.0           800.0            804.0   \n",
       "\n",
       "        inq_last_6mths  open_acc  pub_rec  revol_bal revol_util  total_acc  \\\n",
       "id                                                                           \n",
       "742238             0.0       5.0      0.0     9316.0       76.4        9.0   \n",
       "567423             1.0      16.0      0.0    25364.0        2.9       40.0   \n",
       "\n",
       "        acc_now_delinq  delinq_amnt  tax_liens  grade_A  grade_B  grade_C  \\\n",
       "id                                                                          \n",
       "742238             0.0          0.0        0.0        0        1        0   \n",
       "567423             0.0          0.0        0.0        1        0        0   \n",
       "\n",
       "        grade_D  grade_E  grade_F  grade_G  home_ownership_MORTGAGE  \\\n",
       "id                                                                    \n",
       "742238        0        0        0        0                        0   \n",
       "567423        0        0        0        0                        0   \n",
       "\n",
       "        home_ownership_NONE  home_ownership_OTHER  home_ownership_OWN  \\\n",
       "id                                                                      \n",
       "742238                    0                     0                   0   \n",
       "567423                    0                     0                   1   \n",
       "\n",
       "        home_ownership_RENT  verification_status_Not Verified  \\\n",
       "id                                                              \n",
       "742238                    1                                 0   \n",
       "567423                    0                                 1   \n",
       "\n",
       "        verification_status_Source Verified  verification_status_Verified  \\\n",
       "id                                                                          \n",
       "742238                                    0                             1   \n",
       "567423                                    0                             0   \n",
       "\n",
       "        purpose_car  purpose_credit_card  purpose_debt_consolidation  \\\n",
       "id                                                                     \n",
       "742238            0                    0                           1   \n",
       "567423            0                    0                           1   \n",
       "\n",
       "        purpose_educational  purpose_home_improvement  purpose_house  \\\n",
       "id                                                                     \n",
       "742238                    0                         0              0   \n",
       "567423                    0                         0              0   \n",
       "\n",
       "        purpose_major_purchase  purpose_medical  purpose_moving  \\\n",
       "id                                                                \n",
       "742238                       0                0               0   \n",
       "567423                       0                0               0   \n",
       "\n",
       "        purpose_other  purpose_renewable_energy  purpose_small_business  \\\n",
       "id                                                                        \n",
       "742238              0                         0                       0   \n",
       "567423              0                         0                       0   \n",
       "\n",
       "        purpose_vacation  purpose_wedding  \n",
       "id                                         \n",
       "742238                 0                0  \n",
       "567423                 0                0  "
      ]
     },
     "execution_count": 202,
     "metadata": {},
     "output_type": "execute_result"
    }
   ],
   "source": [
    "train_final.head(2)"
   ]
  },
  {
   "cell_type": "code",
   "execution_count": null,
   "metadata": {
    "collapsed": true
   },
   "outputs": [],
   "source": []
  },
  {
   "cell_type": "code",
   "execution_count": 13,
   "metadata": {
    "collapsed": false
   },
   "outputs": [],
   "source": [
    "test_X, test_target = clean_dataframe(test)\n",
    "#predictions = model.predict(test_X)\n",
    "#pd.DataFrame(predictions)"
   ]
  },
  {
   "cell_type": "code",
   "execution_count": 14,
   "metadata": {
    "collapsed": false
   },
   "outputs": [
    {
     "name": "stdout",
     "output_type": "stream",
     "text": [
      "The test score is 84.908 percent\n"
     ]
    }
   ],
   "source": [
    "#Fit model with best depth value\n",
    "model = DecisionTreeClassifier(max_depth = depth)\n",
    "model.fit(train_final, target_final)\n",
    "\n",
    "#Score model on test set\n",
    "testscore = model.score(test_X, test_target)\n",
    "\n",
    "print (\"The test score is {:.3f} percent\".format(testscore*100))"
   ]
  },
  {
   "cell_type": "code",
   "execution_count": 15,
   "metadata": {
    "collapsed": true
   },
   "outputs": [],
   "source": [
    "test_probs = model.predict_proba(test_X)[:, 1]"
   ]
  },
  {
   "cell_type": "code",
   "execution_count": 16,
   "metadata": {
    "collapsed": false
   },
   "outputs": [
    {
     "data": {
      "text/plain": [
       "array([0.        , 0.85795954, 0.68075802, ..., 0.        , 0.        ,\n",
       "       0.9239905 ])"
      ]
     },
     "execution_count": 16,
     "metadata": {},
     "output_type": "execute_result"
    }
   ],
   "source": [
    "#pd.set_option(\"max.rows\", 100000)\n",
    "test_probs"
   ]
  },
  {
   "cell_type": "code",
   "execution_count": 20,
   "metadata": {
    "collapsed": false
   },
   "outputs": [
    {
     "data": {
      "text/plain": [
       "array([0, 0, 0, ..., 0, 0, 1])"
      ]
     },
     "execution_count": 20,
     "metadata": {},
     "output_type": "execute_result"
    }
   ],
   "source": [
    "preds = threshold(test_probs, thres=0.90)\n",
    "preds"
   ]
  },
  {
   "cell_type": "code",
   "execution_count": 366,
   "metadata": {
    "collapsed": false
   },
   "outputs": [],
   "source": [
    "test_X[\"predicted\"] = preds\n",
    "test_X[\"target\"] = test_target"
   ]
  },
  {
   "cell_type": "code",
   "execution_count": 394,
   "metadata": {
    "collapsed": false
   },
   "outputs": [
    {
     "data": {
      "text/html": [
       "<div>\n",
       "<table border=\"1\" class=\"dataframe\">\n",
       "  <thead>\n",
       "    <tr style=\"text-align: right;\">\n",
       "      <th></th>\n",
       "      <th>loan_amnt</th>\n",
       "      <th>int_rate</th>\n",
       "      <th>fico_range_low</th>\n",
       "      <th>fico_range_high</th>\n",
       "      <th>inq_last_6mths</th>\n",
       "      <th>predicted</th>\n",
       "      <th>target</th>\n",
       "    </tr>\n",
       "    <tr>\n",
       "      <th>id</th>\n",
       "      <th></th>\n",
       "      <th></th>\n",
       "      <th></th>\n",
       "      <th></th>\n",
       "      <th></th>\n",
       "      <th></th>\n",
       "      <th></th>\n",
       "    </tr>\n",
       "  </thead>\n",
       "  <tbody>\n",
       "    <tr>\n",
       "      <th>1077430</th>\n",
       "      <td>2500.0</td>\n",
       "      <td>15.27</td>\n",
       "      <td>740.0</td>\n",
       "      <td>744.0</td>\n",
       "      <td>5.0</td>\n",
       "      <td>0</td>\n",
       "      <td>0</td>\n",
       "    </tr>\n",
       "    <tr>\n",
       "      <th>1076863</th>\n",
       "      <td>10000.0</td>\n",
       "      <td>13.49</td>\n",
       "      <td>690.0</td>\n",
       "      <td>694.0</td>\n",
       "      <td>1.0</td>\n",
       "      <td>0</td>\n",
       "      <td>1</td>\n",
       "    </tr>\n",
       "  </tbody>\n",
       "</table>\n",
       "</div>"
      ],
      "text/plain": [
       "         loan_amnt  int_rate  fico_range_low  fico_range_high  inq_last_6mths  \\\n",
       "id                                                                              \n",
       "1077430     2500.0     15.27           740.0            744.0             5.0   \n",
       "1076863    10000.0     13.49           690.0            694.0             1.0   \n",
       "\n",
       "         predicted  target  \n",
       "id                          \n",
       "1077430          0       0  \n",
       "1076863          0       1  "
      ]
     },
     "execution_count": 394,
     "metadata": {},
     "output_type": "execute_result"
    }
   ],
   "source": [
    "test_X.head(2)"
   ]
  },
  {
   "cell_type": "code",
   "execution_count": 336,
   "metadata": {
    "collapsed": false
   },
   "outputs": [],
   "source": [
    "profit_series = test_X.apply(profit_function, axis = 1)\n",
    "#profit_series"
   ]
  },
  {
   "cell_type": "code",
   "execution_count": 337,
   "metadata": {
    "collapsed": false
   },
   "outputs": [
    {
     "data": {
      "text/plain": [
       "45704.902499999356"
      ]
     },
     "execution_count": 337,
     "metadata": {},
     "output_type": "execute_result"
    }
   ],
   "source": [
    "profit_series.sum()"
   ]
  },
  {
   "cell_type": "code",
   "execution_count": 21,
   "metadata": {
    "collapsed": false
   },
   "outputs": [
    {
     "data": {
      "text/plain": [
       "[-2840642.0699999966,\n",
       " 83709.70749999856,\n",
       " 83709.70749999856,\n",
       " 83709.70749999856,\n",
       " 83709.70749999856,\n",
       " 83709.70749999856,\n",
       " 83709.70749999856,\n",
       " 77451.14249999827,\n",
       " 232983.95999999892,\n",
       " 232983.95999999892,\n",
       " 232983.95999999892]"
      ]
     },
     "execution_count": 21,
     "metadata": {},
     "output_type": "execute_result"
    }
   ],
   "source": [
    "thresholds = [.85, .86, .87, .88, .89, .9, .91, .92, .93, .94, .95]\n",
    "profits = []\n",
    "for i in thresholds:\n",
    "    preds = threshold(test_probs, thres=i)\n",
    "    test_X[\"predicted\"] = preds\n",
    "    test_X[\"target\"] = test_target\n",
    "    profit_series = test_X.apply(profit_function, axis = 1)\n",
    "    profits.append(profit_series.sum())\n",
    "    \n",
    "profits"
   ]
  },
  {
   "cell_type": "code",
   "execution_count": 22,
   "metadata": {
    "collapsed": false
   },
   "outputs": [
    {
     "data": {
      "text/plain": [
       "122988925.0"
      ]
     },
     "execution_count": 22,
     "metadata": {},
     "output_type": "execute_result"
    }
   ],
   "source": [
    "test_X[test_X.target == 1].loan_amnt.sum()"
   ]
  },
  {
   "cell_type": "code",
   "execution_count": null,
   "metadata": {
    "collapsed": true
   },
   "outputs": [],
   "source": []
  }
 ],
 "metadata": {
  "kernelspec": {
   "display_name": "Python 2",
   "language": "python",
   "name": "python2"
  },
  "language_info": {
   "codemirror_mode": {
    "name": "ipython",
    "version": 2
   },
   "file_extension": ".py",
   "mimetype": "text/x-python",
   "name": "python",
   "nbconvert_exporter": "python",
   "pygments_lexer": "ipython2",
   "version": "2.7.13"
  }
 },
 "nbformat": 4,
 "nbformat_minor": 2
}
